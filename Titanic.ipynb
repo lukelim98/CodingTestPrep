{
 "cells": [
  {
   "cell_type": "markdown",
   "id": "f361935d-c6c5-4640-bfd9-25d7fbf6c86e",
   "metadata": {},
   "source": [
    "# Road Map\n",
    "\n",
    "Titanic -> California Housing -> Iris -> IMDN -> MNIST\n",
    "\n",
    "Titanic: Preprocessing + Classic ML\n",
    "\n",
    "California Housing: Regression & Feature Engineering\n",
    "\n",
    "Iris: Multiclass + Visualization\n",
    "\n",
    "IMDB: Text classification (TF-IDF -> LSTM)\n",
    "\n",
    "MNIST: CNN fundamentals"
   ]
  },
  {
   "cell_type": "code",
   "execution_count": null,
   "id": "c97e6bc8-0cdc-4c22-93f2-1c3b2a1dbfe9",
   "metadata": {},
   "outputs": [],
   "source": []
  }
 ],
 "metadata": {
  "kernelspec": {
   "display_name": "Python 3 (ipykernel)",
   "language": "python",
   "name": "python3"
  },
  "language_info": {
   "codemirror_mode": {
    "name": "ipython",
    "version": 3
   },
   "file_extension": ".py",
   "mimetype": "text/x-python",
   "name": "python",
   "nbconvert_exporter": "python",
   "pygments_lexer": "ipython3",
   "version": "3.9.6"
  }
 },
 "nbformat": 4,
 "nbformat_minor": 5
}

{
 "cells": [
  {
   "cell_type": "markdown",
   "id": "d94fd593-ff1b-45b7-8edc-9d1fde57d536",
   "metadata": {},
   "source": [
    "### 문제\n",
    "\n",
    "**Question**\n",
    "\n",
    "이진 트리를 입력받아 전위 순회(preorder traversal), 중위 순회(inorder traversal), 후위 순회(postorder traversal) 한 결과를 출력하는 프로그램을 작성하시오\n",
    "\n",
    "![1991](../Images/1991.png)\n",
    "\n",
    "\n",
    "예를 들어 위와 같은 이진 트리가 입력되면,  \n",
    "* 전위 순회한 결과:ABCDEFG // (루트) (왼쪽 자식) (오른쪽 자식)\n",
    "* 중위 순회한 결과:DBAECFG // (왼쪽 자식) (루트) (오른쪽 자식)\n",
    "* 후위 순회한 결과:DBEGFCA // (왼쪽 자식) (오른쪽 자식) (루트)\n",
    "\n",
    "가 된다.\n",
    "\n",
    "---\n",
    "\n",
    "**Input**\n",
    "\n",
    "첫째 줄에는 이진 트리의 노드위 개수(1$\\leq N \\leq$26) 이 주어진다. 둘째 줄부터 N개의 줄에 걸쳐 각 노드와 그의 왼쪽 자식 노드, 오른쪽 자식 노드가 주어진다. 노드의 이름은 A부터 차레대로 알파벳 대문자로 매겨지면, 항상 A가 루트 노드가 된다. 자식 노득 없는 경우에는 . 으로 표현한다.\n",
    "\n",
    "---\n",
    "\n",
    "**Output**\n",
    "\n",
    "첫째 줄에 전위 순회, 둘째 줄에 중위 순회, 셋째 줄에 후위 순회한 결과를 출력한다. 각 줄에 N개의 알파벳을 공백 없이 출력하면 된다."
   ]
  },
  {
   "cell_type": "code",
   "execution_count": 7,
   "id": "16c02e84-ba2a-4fed-a32d-2927092ce7b6",
   "metadata": {},
   "outputs": [
    {
     "name": "stdin",
     "output_type": "stream",
     "text": [
      " 5\n",
      " A B C\n",
      " B . .\n",
      " C D E\n",
      " D . .\n",
      " E . .\n"
     ]
    },
    {
     "name": "stdout",
     "output_type": "stream",
     "text": [
      "{'A': ['B', 'C'], 'B': ['.', '.'], 'C': ['D', 'E'], 'D': ['.', '.'], 'E': ['.', '.']}\n"
     ]
    }
   ],
   "source": [
    "def tree_traversal():\n",
    "    N = int(input())\n",
    "    tree = dict()\n",
    "    for _ in range(N):\n",
    "        parent, left, right = input().split()\n",
    "        tree[parent] = [left, right]\n",
    "    print(tree)\n",
    "tree_traversal()"
   ]
  },
  {
   "cell_type": "code",
   "execution_count": 10,
   "id": "81cb6013-9b8d-47b0-be65-44dcf2a156a2",
   "metadata": {},
   "outputs": [
    {
     "data": {
      "text/plain": [
       "{'A', 'B', 'C', 'D', 'E', 'F', 'G'}"
      ]
     },
     "execution_count": 10,
     "metadata": {},
     "output_type": "execute_result"
    }
   ],
   "source": [
    "from collections import deque\n",
    "tree = {'A': ['B', 'C'], 'B': ['D', '.'], 'C': ['E', 'F'], 'E': ['.', '.'], 'F': ['.', 'G'], 'D': ['.', '.'], 'G': ['.', '.']}\n",
    "queue = deque()\n",
    "#전위 순회한\n",
    "queue.append('A')\n",
    "visited = set()\n",
    "preorder = []\n",
    "while queue:\n",
    "    curr = queue.popleft()\n",
    "    visited.add(curr)\n",
    "    left, right = tree[curr]\n",
    "    if left != '.':\n",
    "        queue.append(left)\n",
    "    if right != '.':\n",
    "        queue.append(right)\n",
    "visited"
   ]
  },
  {
   "cell_type": "code",
   "execution_count": 28,
   "id": "22917fca-37b6-4c37-a2ff-d9b6bad5c520",
   "metadata": {},
   "outputs": [
    {
     "name": "stdout",
     "output_type": "stream",
     "text": [
      "Stack is deque(['D', 'B', 'A'])\n",
      "curr: D, left: ., right: .\n",
      "\n",
      "Stack is deque(['B', 'A'])\n",
      "curr: B, left: D, right: .\n",
      "\n",
      "Stack is deque(['A'])\n",
      "curr: A, left: B, right: C\n",
      "\n",
      "Stack is deque(['C'])\n",
      "curr: C, left: E, right: F\n",
      "\n",
      "Stack is deque(['F', 'E'])\n",
      "curr: F, left: ., right: G\n",
      "\n",
      "Stack is deque(['G', 'E'])\n",
      "curr: G, left: ., right: .\n",
      "\n",
      "Stack is deque(['E'])\n",
      "curr: E, left: ., right: .\n",
      "\n",
      "['D', 'B', 'A', 'C', 'F', 'G', 'E']\n"
     ]
    }
   ],
   "source": [
    "from collections import deque\n",
    "tree = {'A': ['B', 'C'], 'B': ['D', '.'], 'C': ['E', 'F'], 'E': ['.', '.'], 'F': ['.', 'G'], 'D': ['.', '.'], 'G': ['.', '.']}\n",
    "#중위 순회한\n",
    "# append the most left\n",
    "stack = deque()\n",
    "curr = 'A'\n",
    "stack.appendleft(curr)\n",
    "visited = list()\n",
    "\n",
    "# move to the most left of the tree\n",
    "while curr != '.':\n",
    "    left, right = tree[curr]\n",
    "    curr = left\n",
    "    if curr == '.':\n",
    "        break\n",
    "    stack.appendleft(curr)\n",
    "# start working with the stack:\n",
    "while stack:\n",
    "    print(f\"Stack is {stack}\")\n",
    "    curr = stack.popleft()\n",
    "    visited.append(curr)\n",
    "    left, right = tree[curr]\n",
    "    print(f\"curr: {curr}, left: {left}, right: {right}\\n\")\n",
    "    if left != '.' and left not in visited:\n",
    "        stack.appendleft(left)\n",
    "    if right != '.':\n",
    "        stack.appendleft(right)\n",
    "print(visited)\n",
    "    "
   ]
  },
  {
   "cell_type": "code",
   "execution_count": null,
   "id": "3d498618-ab5f-475a-8965-2034ee5e4250",
   "metadata": {},
   "outputs": [],
   "source": []
  }
 ],
 "metadata": {
  "kernelspec": {
   "display_name": "Python 3 (ipykernel)",
   "language": "python",
   "name": "python3"
  },
  "language_info": {
   "codemirror_mode": {
    "name": "ipython",
    "version": 3
   },
   "file_extension": ".py",
   "mimetype": "text/x-python",
   "name": "python",
   "nbconvert_exporter": "python",
   "pygments_lexer": "ipython3",
   "version": "3.9.6"
  }
 },
 "nbformat": 4,
 "nbformat_minor": 5
}

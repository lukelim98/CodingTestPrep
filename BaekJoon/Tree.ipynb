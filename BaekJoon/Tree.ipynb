{
 "cells": [
  {
   "cell_type": "markdown",
   "id": "d94fd593-ff1b-45b7-8edc-9d1fde57d536",
   "metadata": {},
   "source": [
    "**Question**\n",
    "\n",
    "이진 트리를 입력받아 전위 순회(preorder traversal), 중위 순회(inorder traversal), 후위 순회(postorder traversal) 한 결과를 출력하는 프로그램을 작성하시오\n",
    "\n",
    "![1991](../Images/1991.png)\n",
    "\n",
    "\n",
    "예를 들어 위와 같은 이진 트리가 입력되면,  \n",
    "* 전위 순회한 결과:ABCDEFG // (루트) (왼쪽 자식) (오른쪽 자식)\n",
    "* 중위 순회한 결과:DBAECFG // (왼쪽 자식) (루트) (오른쪽 자식)\n",
    "* 후위 순회한 결과:DBEGFCA // (왼쪽 자식) (오른쪽 자식) (루트)\n",
    "\n",
    "가 된다.\n",
    "\n",
    "---\n",
    "\n",
    "**Input**\n",
    "\n",
    "첫째 줄에는 이진 트리의 노드위 개수(1$\\leq N \\leq$26) 이 주어진다. 둘째 줄부터 N개의 줄에 걸쳐 각 노드와 그의 왼쪽 자식 노드, 오른쪽 자식 노드가 주어진다. 노드의 이름은 A부터 차레대로 알파벳 대문자로 매겨지면, 항상 A가 루트 노드가 된다. 자식 노득 없는 경우에는 . 으로 표현한다.\n",
    "\n",
    "---\n",
    "\n",
    "**Output**\n",
    "\n",
    "첫째 줄에 전위 순회, 둘째 줄에 중위 순회, 셋째 줄에 후위 순회한 결과를 출력한다. 각 줄에 N개의 알파벳을 공백 없이 출력하면 된다."
   ]
  },
  {
   "cell_type": "code",
   "execution_count": 61,
   "id": "16c02e84-ba2a-4fed-a32d-2927092ce7b6",
   "metadata": {},
   "outputs": [
    {
     "name": "stdin",
     "output_type": "stream",
     "text": [
      " d\n"
     ]
    },
    {
     "ename": "ValueError",
     "evalue": "invalid literal for int() with base 10: 'd'",
     "output_type": "error",
     "traceback": [
      "\u001b[0;31m---------------------------------------------------------------------------\u001b[0m",
      "\u001b[0;31mValueError\u001b[0m                                Traceback (most recent call last)",
      "Cell \u001b[0;32mIn[61], line 39\u001b[0m\n\u001b[1;32m     37\u001b[0m     \u001b[38;5;28mprint\u001b[39m(\u001b[38;5;124m\"\u001b[39m\u001b[38;5;124m\"\u001b[39m\u001b[38;5;241m.\u001b[39mjoin(inorder_list))\n\u001b[1;32m     38\u001b[0m     \u001b[38;5;28mprint\u001b[39m(\u001b[38;5;124m\"\u001b[39m\u001b[38;5;124m\"\u001b[39m\u001b[38;5;241m.\u001b[39mjoin(postorder_list))\n\u001b[0;32m---> 39\u001b[0m \u001b[43mtree_traversal\u001b[49m\u001b[43m(\u001b[49m\u001b[43m)\u001b[49m\n",
      "Cell \u001b[0;32mIn[61], line 2\u001b[0m, in \u001b[0;36mtree_traversal\u001b[0;34m()\u001b[0m\n\u001b[1;32m      1\u001b[0m \u001b[38;5;28;01mdef\u001b[39;00m \u001b[38;5;21mtree_traversal\u001b[39m():\n\u001b[0;32m----> 2\u001b[0m     N \u001b[38;5;241m=\u001b[39m \u001b[38;5;28;43mint\u001b[39;49m\u001b[43m(\u001b[49m\u001b[38;5;28;43minput\u001b[39;49m\u001b[43m(\u001b[49m\u001b[43m)\u001b[49m\u001b[43m)\u001b[49m\n\u001b[1;32m      3\u001b[0m     tree \u001b[38;5;241m=\u001b[39m \u001b[38;5;28mdict\u001b[39m()\n\u001b[1;32m      4\u001b[0m     \u001b[38;5;28;01mfor\u001b[39;00m _ \u001b[38;5;129;01min\u001b[39;00m \u001b[38;5;28mrange\u001b[39m(N):\n",
      "\u001b[0;31mValueError\u001b[0m: invalid literal for int() with base 10: 'd'"
     ]
    }
   ],
   "source": [
    "def tree_traversal():\n",
    "    N = int(input())\n",
    "    tree = dict()\n",
    "    for _ in range(N):\n",
    "        parent, left, right = input().split()\n",
    "        tree[parent] = [left, right]\n",
    "    preorder_list = []\n",
    "    inorder_list = []\n",
    "    postorder_list = []\n",
    "\n",
    "    def preorder(node):\n",
    "        if node == '.':\n",
    "            return\n",
    "        preorder_list.append(node)\n",
    "        preorder(tree[node][0])\n",
    "        preorder(tree[node][1])\n",
    "\n",
    "    def inorder(node):\n",
    "        if node == '.':\n",
    "            return\n",
    "        inorder(tree[node][0])\n",
    "        inorder_list.append(node)\n",
    "        inorder(tree[node][1])\n",
    "\n",
    "    def postorder(node):\n",
    "        if node == '.':\n",
    "            return\n",
    "        postorder(tree[node][0])\n",
    "        postorder(tree[node][1])\n",
    "        postorder_list.append(node)\n",
    "\n",
    "    preorder('A')\n",
    "    inorder('A')\n",
    "    postorder('A')\n",
    "    \n",
    "    print(\"\".join(preorder_list))\n",
    "    print(\"\".join(inorder_list))\n",
    "    print(\"\".join(postorder_list))\n",
    "tree_traversal()"
   ]
  },
  {
   "cell_type": "markdown",
   "id": "b2f7dde6-7698-4f50-a3e4-54f1b25ebaf5",
   "metadata": {},
   "source": [
    "**Question**\n",
    "\n",
    "루트 없는 트리가 주어진다. 이때, 트리의 루트를 1이라고 정했을 때, 각 노드의 부모를 구하는 프로그램을 작성하시오.\n",
    "\n",
    "---\n",
    "\n",
    "**Input**\n",
    "\n",
    "첫째 줄에 노드의 개수 N(2$\\leq N \\leq 100,000$)이 주어진다. 둘째 줄부터 N-1개의 줄에 트리 상에서 연결된 두 정점이 주어진다.\n",
    "\n",
    "---\n",
    "\n",
    "**Output**\n",
    "\n",
    "첫째 줄부터 N-1개의 줄에 각 노드의 부모 노드 번호를 2번 노드부터 순서대로 출력한다."
   ]
  },
  {
   "cell_type": "code",
   "execution_count": 78,
   "id": "47192c3e-212a-4da5-b28c-ec879ae52c95",
   "metadata": {},
   "outputs": [
    {
     "name": "stdin",
     "output_type": "stream",
     "text": [
      " 7\n",
      " 1 6\n",
      " 6 3\n",
      " 3 5\n",
      " 4 1\n",
      " 2 4\n",
      " 4 7\n"
     ]
    },
    {
     "name": "stdout",
     "output_type": "stream",
     "text": [
      "4\n",
      "6\n",
      "1\n",
      "3\n",
      "1\n",
      "4\n"
     ]
    }
   ],
   "source": [
    "def find_parent():\n",
    "    N = int(input())\n",
    "    adj_dict = {}\n",
    "    for _ in range(N-1):\n",
    "        a, b = map(int, input().split())\n",
    "        if a not in adj_dict:\n",
    "            adj_dict[a] = [b]\n",
    "        else:\n",
    "            adj_dict[a].append(b)\n",
    "        if b not in adj_dict:\n",
    "            adj_dict[b] = [a]\n",
    "        else:\n",
    "            adj_dict[b].append(a)\n",
    "    from collections import deque\n",
    "    queue = deque([1])\n",
    "    parents = [0] * (N+1)\n",
    "    visited = set()\n",
    "    while queue:\n",
    "        curr = queue.popleft()\n",
    "        ngbrs = adj_dict[curr]\n",
    "        for ngbr in ngbrs:\n",
    "            if ngbr not in visited:\n",
    "                visited.add(ngbr)\n",
    "                queue.append(ngbr)\n",
    "                parents[ngbr] = curr\n",
    "    for item in parents[2:]:\n",
    "        print(item)\n",
    "find_parent()"
   ]
  },
  {
   "cell_type": "code",
   "execution_count": 75,
   "id": "df3d5a9a-5d73-4eac-8548-633b062ffca0",
   "metadata": {},
   "outputs": [
    {
     "data": {
      "text/plain": [
       "[4, 6, 1, 3, 1, 4]"
      ]
     },
     "execution_count": 75,
     "metadata": {},
     "output_type": "execute_result"
    }
   ],
   "source": [
    "from collections import deque\n",
    "N = 7\n",
    "adj_dict = {1: [6, 4], 6: [1, 3], 3: [6, 5], 5: [3], 4: [1, 2, 7], 2: [4], 7: [4]}\n",
    "queue = deque([1])\n",
    "parents = [0] * (N+1)\n",
    "visited = set()\n",
    "while queue:\n",
    "    curr = queue.popleft()\n",
    "    ngbrs = adj_dict[curr]\n",
    "    for ngbr in ngbrs:\n",
    "        if ngbr not in visited:\n",
    "            visited.add(ngbr)\n",
    "            queue.append(ngbr)\n",
    "            parents[ngbr] = curr\n",
    "parents[2:]"
   ]
  },
  {
   "cell_type": "code",
   "execution_count": null,
   "id": "aff1e063-a3f7-4f60-8a37-3808989c4ac6",
   "metadata": {},
   "outputs": [],
   "source": []
  }
 ],
 "metadata": {
  "kernelspec": {
   "display_name": "Python 3 (ipykernel)",
   "language": "python",
   "name": "python3"
  },
  "language_info": {
   "codemirror_mode": {
    "name": "ipython",
    "version": 3
   },
   "file_extension": ".py",
   "mimetype": "text/x-python",
   "name": "python",
   "nbconvert_exporter": "python",
   "pygments_lexer": "ipython3",
   "version": "3.9.6"
  }
 },
 "nbformat": 4,
 "nbformat_minor": 5
}

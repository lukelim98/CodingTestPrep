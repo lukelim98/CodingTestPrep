{
 "cells": [
  {
   "cell_type": "markdown",
   "id": "c990ebde-e036-4c70-8bfd-540698977d17",
   "metadata": {},
   "source": [
    "### N과 M (4)\n",
    "\n",
    "**Question**\n",
    "\n",
    "자연수 N과 M이 주어졌을 때, 아래 조건을 만족하는 길이가 M인 수열을 모두 구하는 프로그램을 작성하시오.\n",
    "* 1부터 N까지 자연수 중에서 M개를 고른 수열\n",
    "* 같은 수를 여러 번 골라도 된다.\n",
    "* 고른 수열은 비내링차순이어야 한다.\n",
    "    * 길이가 K인 수열 A가 $A_1 \\leq A_2 \\leq \\dots \\leq A_{K-1} \\leq A_K$를 만족하면, 비내림차순이라고 한다.\n",
    "\n",
    "---\n",
    "\n",
    "**Input**\n",
    "\n",
    "첫째 줄에 자연수 N과 M이 주어진다. (1 $\\leq M \\leq N \\leq 8$)\n",
    "\n",
    "---\n",
    "\n",
    "**Output**\n",
    "\n",
    "한 줄에 하나씩 문제의 조건을 만족하는 수열을 출력한다. 중복되는 수열을 여러 번 출력하면 안되며, 각 수열은 공백로 구분해서 출력해야 한다.\n",
    "\n",
    "수열은 사전 순으로 증가하는 순서로 출력해야 한다."
   ]
  },
  {
   "cell_type": "code",
   "execution_count": null,
   "id": "04a94ce0-0b9a-48ac-b756-69ae12c34c43",
   "metadata": {},
   "outputs": [],
   "source": []
  }
 ],
 "metadata": {
  "kernelspec": {
   "display_name": "Python 3 (ipykernel)",
   "language": "python",
   "name": "python3"
  },
  "language_info": {
   "codemirror_mode": {
    "name": "ipython",
    "version": 3
   },
   "file_extension": ".py",
   "mimetype": "text/x-python",
   "name": "python",
   "nbconvert_exporter": "python",
   "pygments_lexer": "ipython3",
   "version": "3.9.6"
  }
 },
 "nbformat": 4,
 "nbformat_minor": 5
}

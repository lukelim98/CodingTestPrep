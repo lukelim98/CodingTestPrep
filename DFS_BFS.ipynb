{
 "cells": [
  {
   "cell_type": "markdown",
   "id": "0cd8b1f1-c136-48a1-adf4-d5bb2efa81a4",
   "metadata": {},
   "source": [
    "# Graph Class"
   ]
  },
  {
   "cell_type": "code",
   "execution_count": 1,
   "id": "059e70c4-759c-4bc9-a09c-1480cfe4456c",
   "metadata": {},
   "outputs": [],
   "source": [
    "class Graph:\n",
    "    \"\"\"\n",
    "    Graph using an adjacency list with only built-ins.\n",
    "    - directed: if False, edges are added both ways\n",
    "    - weights: store as numbers (default 1)\n",
    "    \"\"\"\n",
    "    def __init__(self, directed=False):\n",
    "        self.directed = directed\n",
    "        self._adj = {}\n",
    "\n",
    "    # -------- Vertex ops --------\n",
    "    def add_vertex(self, v):\n",
    "        if v not in self._adj:\n",
    "            self._adj[v] = {}\n",
    "\n",
    "    def remove_vertex(self, v):\n",
    "        if v not in self._adj:\n",
    "            return\n",
    "        # remove inbound edges:\n",
    "        for u in list(self._adj.keys()):\n",
    "            if v in self._adj[u]:\n",
    "                del self._adj[u][v]\n",
    "        # remove the vertex itself\n",
    "        del self._adj[v]\n",
    "\n",
    "    def has_vertex(self, v):\n",
    "        return v in self._adj\n",
    "\n",
    "    # -------- Vertex ops --------\n",
    "    def add_edge(self, u, v, weight=1):\n",
    "        self.add_vertex(u)\n",
    "        self.add_vertex(v)\n",
    "        self._adj[u][v] = weight\n",
    "        if not self.directed:\n",
    "            self._adj[v][u] = weight\n",
    "\n",
    "    def remove_edge(self, u, v):\n",
    "        if u in self._adj and v in self._adj[u]:\n",
    "            del self._adj[u][v]\n",
    "        if not self.directed and v in self._adj and v in self._adj[u]:\n",
    "            del self._adj[v][u]\n",
    "\n",
    "    # -------- Inspection --------\n",
    "    def get_neighbors(self, v):\n",
    "        # Return all neighbors of a given vertex v and their edge weights\n",
    "        return dict(self._adj.get(v, {}))\n",
    "\n",
    "    def num_vertices(self):\n",
    "        # Return how many vertices (nodes) exist in the graph\n",
    "        return len(self._adj)\n",
    "\n",
    "    def num_edges(self):\n",
    "        # Return how many edges exist in the graph\n",
    "        # if the graph is directed: just count all edges.\n",
    "        # if undirected: divide by 2\n",
    "        m = sum(len(item) for item in self._adj.values())\n",
    "        return m if self.directed else m // 2\n",
    "\n",
    "    def vertices(self):\n",
    "        # Return a list of all vertices in the graph\n",
    "        return [key for key in self._adj]\n",
    "\n",
    "    def edges(self):\n",
    "        # Return a list of all edges in the form (v, u, weight)\n",
    "        edges = []\n",
    "        if self.directed:\n",
    "            for v in self._adj:\n",
    "                for u in self._adj[v]:\n",
    "                    edges.append((v, u, self._adj[v][u]))\n",
    "        else:\n",
    "            seen = set()\n",
    "            for v in self._adj:\n",
    "                for u in self._adj[v]:\n",
    "                    if tuple(sorted([v, u])) not in seen:\n",
    "                        edges.append((v, u, self._adj[v][u]))\n",
    "                        seen.add(tuple(sorted([v, u])))\n",
    "        return edges\n",
    "\n",
    "    def to_adjacency_list(self):\n",
    "        # Return the graph's adjacency list as a dictionay-of-dictionary\n",
    "        return {v: dict(nbrs) for v, nbrs in self._adj.items()}\n",
    "\n",
    "    def to_adjacency_matrix(self):\n",
    "        # Return a matrix form of the graph\n",
    "        adj_matrix = [[0] * len(self._adj) for _ in range(len(self._adj))]\n",
    "        index_dict = {key: index for index, key in enumerate(self._adj)}\n",
    "        for v in self._adj:\n",
    "            for u in self._adj[v]:\n",
    "                adj_matrix[index_dict[v]][index_dict[u]] = self._adj[v][u]\n",
    "        return adj_matrix\n",
    "\n",
    "        \n",
    "    def __str__(self):\n",
    "        # Define how the graph prints as a string\n",
    "        lines = [f\"{'Directed' if self.directed else 'Undirected'} Graph\"]\n",
    "        for u in self.vertices():\n",
    "            nbrs = \", \".join(f\"{v}({w})\" for v, w in self._adj[u].items())\n",
    "            lines.append(f\"   {u}:{nbrs}\")\n",
    "        return \"\\n\".join(lines)\n",
    "\n",
    "    def print_graph(self) -> None:\n",
    "        print(self)\n",
    "        # Just print the string representation of the graph"
   ]
  },
  {
   "cell_type": "code",
   "execution_count": 69,
   "id": "2b3508c8-ad0f-4cc2-9754-429a7ba10119",
   "metadata": {},
   "outputs": [
    {
     "name": "stdout",
     "output_type": "stream",
     "text": [
      "Undirected Graph\n",
      "   A:B(1), C(1)\n",
      "   B:A(1), C(1)\n",
      "   C:B(1), A(1), D(1), E(1)\n",
      "   D:C(1)\n",
      "   E:C(1)\n"
     ]
    }
   ],
   "source": [
    "g = Graph(directed=False)\n",
    "g.add_edge(\"A\", \"B\")\n",
    "g.add_edge(\"B\", \"C\")\n",
    "g.add_edge(\"A\", \"C\")\n",
    "g.add_edge(\"C\", \"D\")\n",
    "g.add_edge(\"C\", \"E\")\n",
    "g.print_graph()"
   ]
  },
  {
   "cell_type": "code",
   "execution_count": 95,
   "id": "a05b5df4-1a13-4272-b5af-4ba817de056b",
   "metadata": {},
   "outputs": [
    {
     "name": "stdout",
     "output_type": "stream",
     "text": [
      "Undirected Graph\n",
      "   A:B(1), C(1), D(1)\n",
      "   B:A(1)\n",
      "   C:A(1), E(1)\n",
      "   D:A(1)\n",
      "   E:C(1)\n"
     ]
    }
   ],
   "source": [
    "g = Graph(directed=False)\n",
    "g.add_edge(\"A\", \"B\")\n",
    "g.add_edge(\"A\", \"C\")\n",
    "g.add_edge(\"A\", \"D\")\n",
    "g.add_edge(\"C\", \"E\")\n",
    "g.print_graph()"
   ]
  },
  {
   "cell_type": "markdown",
   "id": "63bf1300-e9e1-4d7d-b1e3-028fa0426d34",
   "metadata": {},
   "source": [
    "# DFS Implementation"
   ]
  },
  {
   "cell_type": "code",
   "execution_count": 61,
   "id": "7bfc20ac-1eea-4819-b9f9-9c77703a66d0",
   "metadata": {},
   "outputs": [
    {
     "data": {
      "text/plain": [
       "'Z'"
      ]
     },
     "execution_count": 61,
     "metadata": {},
     "output_type": "execute_result"
    }
   ],
   "source": [
    "temp = ['Z', 'A', 'B']\n",
    "temp.sort()\n",
    "temp[-1]"
   ]
  },
  {
   "cell_type": "code",
   "execution_count": 68,
   "id": "1e24a82f-1e5e-4e30-9314-09c4848b8b4a",
   "metadata": {},
   "outputs": [
    {
     "data": {
      "text/plain": [
       "['A', 'B', 'C', 'E', 'D']"
      ]
     },
     "execution_count": 68,
     "metadata": {},
     "output_type": "execute_result"
    }
   ],
   "source": [
    "def dfs_iterative(g: Graph, start: str) -> list:\n",
    "    result = []\n",
    "    visited = set()\n",
    "    stack = [start]\n",
    "    curr = start\n",
    "    while len(stack) != 0:\n",
    "        flag = False\n",
    "        if curr not in visited:\n",
    "            result.append(curr)\n",
    "        ngbrs = sorted(list(g.get_neighbors(curr).keys()))\n",
    "        visited.add(curr)\n",
    "        # Get the first item in the neighbor that is not in the visited list\n",
    "        for node in ngbrs:\n",
    "            if node not in visited:\n",
    "                curr = node\n",
    "                stack.append(curr)\n",
    "                flag = True\n",
    "                break\n",
    "        if not flag:\n",
    "            stack.pop()\n",
    "            if len(stack) != 0:\n",
    "                curr = stack[-1]\n",
    "    return result\n",
    "\n",
    "\n",
    "dfs_iterative(g, \"A\")"
   ]
  },
  {
   "cell_type": "code",
   "execution_count": 99,
   "id": "26d640fc-65b0-4d6f-8f99-d500ba138512",
   "metadata": {
    "scrolled": true
   },
   "outputs": [
    {
     "data": {
      "text/plain": [
       "['A', 'B', 'C', 'E', 'D']"
      ]
     },
     "execution_count": 99,
     "metadata": {},
     "output_type": "execute_result"
    }
   ],
   "source": [
    "def dfs_recursive(g: Graph, node: str, visited: list):\n",
    "    if node in visited:\n",
    "        return []\n",
    "    visited.append(node)\n",
    "    result = [node]\n",
    "    ngbrs = sorted(list(g.get_neighbors(node).keys()))\n",
    "    for item in ngbrs:\n",
    "        if item in visited:\n",
    "            continue\n",
    "        else:\n",
    "            result.extend(dfs_recursive(g, item, visited))\n",
    "    return result\n",
    "\n",
    "\n",
    "dfs_recursive(g, \"A\", [])"
   ]
  },
  {
   "cell_type": "markdown",
   "id": "fb2d9278-37a4-4a30-aab7-1920a854f529",
   "metadata": {},
   "source": [
    "# Breadth First Search"
   ]
  },
  {
   "cell_type": "code",
   "execution_count": 112,
   "id": "9236b2f7-0074-4f66-af5c-84c2bf42aa7e",
   "metadata": {},
   "outputs": [
    {
     "name": "stdout",
     "output_type": "stream",
     "text": [
      "Undirected Graph\n",
      "   A:B(1), C(1)\n",
      "   B:A(1), C(1), D(1)\n",
      "   C:A(1), B(1), E(1)\n",
      "   D:B(1), E(1)\n",
      "   E:C(1), D(1)\n"
     ]
    }
   ],
   "source": [
    "g = Graph()\n",
    "g.add_edge('A', 'B')\n",
    "g.add_edge('A', 'C')\n",
    "g.add_edge('B', 'C')\n",
    "g.add_edge('B', 'D')\n",
    "g.add_edge('C', 'E')\n",
    "g.add_edge('D', 'E')\n",
    "print(g)"
   ]
  },
  {
   "cell_type": "code",
   "execution_count": 119,
   "id": "42674f53-ddf8-4273-abd3-7ceda594620d",
   "metadata": {},
   "outputs": [
    {
     "name": "stdout",
     "output_type": "stream",
     "text": [
      "Undirected Graph\n",
      "   A:B(1), C(1)\n",
      "   B:A(1), C(1)\n",
      "   C:B(1), A(1), D(1), E(1)\n",
      "   D:C(1)\n",
      "   E:C(1)\n"
     ]
    }
   ],
   "source": [
    "g = Graph()\n",
    "g.add_edge('A', 'B')\n",
    "g.add_edge('B', 'C')\n",
    "g.add_edge('A', 'C')\n",
    "g.add_edge('C', 'D')\n",
    "g.add_edge('C', 'E')\n",
    "print(g)"
   ]
  },
  {
   "cell_type": "code",
   "execution_count": 120,
   "id": "3ae77f70-dd90-4b11-ab60-fa5b69087ede",
   "metadata": {},
   "outputs": [
    {
     "name": "stdout",
     "output_type": "stream",
     "text": [
      "\n",
      "Queue: ['A']\n",
      "Node: A\n",
      "Visited: set()\n",
      "\n",
      "Queue: ['B', 'C']\n",
      "Node: B\n",
      "Visited: {'A'}\n",
      "\n",
      "Queue: ['C', 'C']\n",
      "Node: C\n",
      "Visited: {'A', 'B'}\n",
      "\n",
      "Queue: ['C', 'D', 'E']\n",
      "Node: C\n",
      "Visited: {'A', 'C', 'B'}\n",
      "\n",
      "Queue: ['D', 'E', 'D', 'E']\n",
      "Node: D\n",
      "Visited: {'A', 'C', 'B'}\n",
      "\n",
      "Queue: ['E', 'D', 'E']\n",
      "Node: E\n",
      "Visited: {'A', 'C', 'D', 'B'}\n",
      "\n",
      "Queue: ['D', 'E']\n",
      "Node: D\n",
      "Visited: {'E', 'B', 'D', 'A', 'C'}\n",
      "\n",
      "Queue: ['E']\n",
      "Node: E\n",
      "Visited: {'E', 'B', 'D', 'A', 'C'}\n"
     ]
    },
    {
     "data": {
      "text/plain": [
       "['A', 'B', 'C', 'D', 'E']"
      ]
     },
     "execution_count": 120,
     "metadata": {},
     "output_type": "execute_result"
    }
   ],
   "source": [
    "def bfs_iterative(g: Graph, start: str) -> list:\n",
    "    queue = [start]\n",
    "    visited = set()\n",
    "    result = []\n",
    "    num = 0\n",
    "    while len(queue) != 0:\n",
    "        num += 1\n",
    "        node = queue.pop(0)\n",
    "        if node not in visited:\n",
    "            visited.add(node)\n",
    "            result.append(node)\n",
    "        ngbrs = sorted(list(g.get_neighbors(node).keys()))\n",
    "        for item in ngbrs:\n",
    "            if item not in visited:\n",
    "                queue.append(item)\n",
    "    return result\n",
    "\n",
    "\n",
    "bfs_iterative(g, 'A')"
   ]
  },
  {
   "cell_type": "markdown",
   "id": "8d45cbc3-c8ee-4655-9f58-fe3cc3a2ed5f",
   "metadata": {},
   "source": [
    "### DFS와 BFS\n",
    "**Question:**  \n",
    "그래프를 DFS로 탐색한 결과와 BFS로 탐색한 결과를 출력하는 프로그램을 작성하시오. 단, 방문할 수 있는 정점이 여러 개인 경우에는 정점 번호가 작은 것을 먼저 방문하고, 더 이상 방문할 수 있는 점이 없는 경우 종료한다. 정점 번호는 1번부터 N번까지이다.  \n",
    "**Input:**  \n",
    "첫째 줄에 정점의 개수 N(1 ≤ N ≤ 1,000), 간선의 개수 M(1 ≤ M ≤ 10,000), 탐색을 시작할 정점의 번호 V가 주어진다. 다음 M개의 줄에는 간선이 연결하는 두 정점의 번호가 주어진다. 어떤 두 정점 사이에 여러 개의 간선이 있을 수 있다. 입력으로 주어지는 간선은 양방향이다.  \n",
    "**Output:**  \n",
    "첫째 줄에 DFS를 수행한 결과를, 그 다음 줄에는 BFS를 수행한 결과를 출력한다. V부터 방문된 점을 순서대로 출력하면 된다."
   ]
  },
  {
   "cell_type": "code",
   "execution_count": 168,
   "id": "011a4348-9a79-45d0-849e-86188358dc56",
   "metadata": {},
   "outputs": [
    {
     "name": "stdin",
     "output_type": "stream",
     "text": [
      " 4 5 1\n",
      " 1 2\n",
      " 1 3\n",
      " 1 4\n",
      " 2 4\n",
      " 3 4\n"
     ]
    },
    {
     "name": "stdout",
     "output_type": "stream",
     "text": [
      "1 2 4 3\n",
      "1 2 3 4\n"
     ]
    }
   ],
   "source": [
    "def dfs(adj_matrix: dict, start:int)->list:\n",
    "    stack = [start]\n",
    "    visited = set()\n",
    "    result = []\n",
    "    while len(stack) != 0:\n",
    "        curr = stack.pop()\n",
    "        if curr in visited:\n",
    "            continue\n",
    "        visited.add(curr)\n",
    "        result.append(curr)\n",
    "        ngbrs = sorted(adj_matrix[curr], reverse=True)\n",
    "        for node in ngbrs:\n",
    "            if node not in visited:\n",
    "                stack.append(node)\n",
    "    return result\n",
    "            \n",
    "def bfs(adj_matrix: dict, start:int)->list:\n",
    "    queue = [start]\n",
    "    visited = set()\n",
    "    result = []\n",
    "    head = 0\n",
    "    while head < len(queue):\n",
    "        curr = queue[head]\n",
    "        head += 1\n",
    "        if curr not in visited:\n",
    "            visited.add(curr)\n",
    "            result.append(curr)\n",
    "        ngbrs = sorted(adj_matrix[curr])\n",
    "        for node in ngbrs:\n",
    "            if node not in visited:\n",
    "                queue.append(node)\n",
    "    return result\n",
    "    \n",
    "    \n",
    "def dfs_and_bfs():\n",
    "    V, E, S = map(int, input().split())\n",
    "    adj_matrix = {i: set() for i in range(1, V+1)}\n",
    "    for _ in range(E):\n",
    "        v, u = map(int, input().split())\n",
    "        if v not in adj_matrix:\n",
    "            adj_matrix[v] = [u]\n",
    "        else:\n",
    "            adj_matrix[v].append(u)\n",
    "        if u not in adj_matrix:\n",
    "            adj_matrix[u] = [v]\n",
    "        else:\n",
    "            adj_matrix[u].append(v)\n",
    "    return dfs(adj_matrix, S), bfs(adj_matrix, S)\n",
    "\n",
    "    \n",
    "dfs, bfs = dfs_and_bfs()\n",
    "print(' '.join(map(str, dfs)))\n",
    "print(' '.join(map(str, bfs)))"
   ]
  },
  {
   "cell_type": "markdown",
   "id": "2a74a93a-cf0a-4db1-ab13-9d4080c690af",
   "metadata": {},
   "source": [
    "### 미로 탐색\n",
    "**Question:**  \n",
    "N x M 크기의 배열로 표현되는 미로가 있다.  \n",
    "미로에서 1은 이동할 수 있는 칸을 나타내고, 0은 이동할 수 없는 칸을 나타낸다. 이러한 미로가 주어졌을 때, (1,1)에 서 출발하여 (N,M)의 위치로 이동할 때 지나야 하는 최소의 칸 수를 구하는 프로그램을 작성하시오. 한 칸에서 다른 칸으로 이동할 때, 서로 인접한 칸으로만 이동할 수 있다.  \n",
    "**Input:**  \n",
    "첮째 줄에 두 정수 N, M(2 $\\leq$ N, M $\\leq$ 100)이 주어진다. 다음 N개의 줄에는 M개의 정수로 미로가 주어진다. 각각의 수들은 붙어서 입력으로 주어진다.  \n",
    "**Output:**  \n",
    "첮째 줄에 지나야 하는 최소의 칸 수를 출력한다. 항상 도착위치로 이동할 수 있는 경우만 입력으로 주어진다."
   ]
  },
  {
   "cell_type": "code",
   "execution_count": 12,
   "id": "97331e27-53fb-481f-b808-1b357153a52f",
   "metadata": {},
   "outputs": [
    {
     "name": "stdin",
     "output_type": "stream",
     "text": [
      " 4 6\n",
      " 101111\n",
      " 101010\n",
      " 101011\n",
      " 111011\n"
     ]
    },
    {
     "name": "stdout",
     "output_type": "stream",
     "text": [
      "15\n"
     ]
    }
   ],
   "source": [
    "def search_maze():\n",
    "    from collections import deque\n",
    "    N, M = map(int, input().split())\n",
    "    maze = []\n",
    "    queue = deque([(0,0,1)])\n",
    "    visited = set()\n",
    "    for _ in range(N):\n",
    "        maze.append(list(input()))\n",
    "    while len(queue) != 0:\n",
    "        curr = queue.popleft()\n",
    "        curr_x, curr_y, dist = curr\n",
    "        if curr in visited:\n",
    "            continue\n",
    "        visited.add((curr_x, curr_y))\n",
    "\n",
    "        if (curr_x, curr_y) == (N-1, M-1):\n",
    "            print(dist)\n",
    "            break\n",
    "\n",
    "        # check up\n",
    "        if curr_x - 1 >= 0:\n",
    "            if maze[curr_x - 1][curr_y] == '1' and (curr_x - 1, curr_y) not in visited:\n",
    "                queue.append((curr_x-1, curr_y, dist+1))\n",
    "        # check down\n",
    "        if curr_x + 1 < N:\n",
    "            if maze[curr_x + 1][curr_y] == '1' and (curr_x + 1, curr_y) not in visited:\n",
    "                queue.append((curr_x+1, curr_y, dist+1))\n",
    "        # check left\n",
    "        if curr_y - 1 >= 0:\n",
    "            if maze[curr_x][curr_y - 1] == '1' and (curr_x, curr_y - 1) not in visited:\n",
    "                queue.append((curr_x, curr_y - 1, dist+1))\n",
    "        # check right\n",
    "        if curr_y + 1 < M:\n",
    "            if maze[curr_x][curr_y + 1] == '1' and (curr_x, curr_y + 1) not in visited:\n",
    "                queue.append((curr_x, curr_y + 1, dist+1))\n",
    "                \n",
    "search_maze()\n",
    "\n",
    "# Version with sys.stdin.readline\n",
    "# def search_maze():\n",
    "#     from collections import deque\n",
    "#     import sys\n",
    "#     input = sys.stdin.readline   # use fast input\n",
    "\n",
    "#     N, M = map(int, input().split())\n",
    "#     maze = []\n",
    "#     queue = deque([(0,0,1)])\n",
    "#     visited = set()\n",
    "#     for _ in range(N):\n",
    "#         maze.append(list(input().strip()))  # strip() removes newline\n",
    "\n",
    "#     while queue:\n",
    "#         curr_x, curr_y, dist = queue.popleft()\n",
    "#         if (curr_x, curr_y) in visited:\n",
    "#             continue\n",
    "#         visited.add((curr_x, curr_y))\n",
    "\n",
    "#         if (curr_x, curr_y) == (N-1, M-1):\n",
    "#             print(dist)\n",
    "#             break\n",
    "\n",
    "#         # check up\n",
    "#         if curr_x - 1 >= 0 and maze[curr_x - 1][curr_y] == '1' and (curr_x - 1, curr_y) not in visited:\n",
    "#             queue.append((curr_x-1, curr_y, dist+1))\n",
    "#         # check down\n",
    "#         if curr_x + 1 < N and maze[curr_x + 1][curr_y] == '1' and (curr_x + 1, curr_y) not in visited:\n",
    "#             queue.append((curr_x+1, curr_y, dist+1))\n",
    "#         # check left\n",
    "#         if curr_y - 1 >= 0 and maze[curr_x][curr_y - 1] == '1' and (curr_x, curr_y - 1) not in visited:\n",
    "#             queue.append((curr_x, curr_y-1, dist+1))\n",
    "#         # check right\n",
    "#         if curr_y + 1 < M and maze[curr_x][curr_y + 1] == '1' and (curr_x, curr_y + 1) not in visited:\n",
    "#             queue.append((curr_x, curr_y+1, dist+1))\n",
    "\n",
    "# search_maze()"
   ]
  },
  {
   "cell_type": "markdown",
   "id": "682a9fc8-caec-4790-97d5-0377c91f6685",
   "metadata": {},
   "source": [
    "### 바이러스\n",
    "**Question:**  \n",
    "신종 바이러스인 웜 바이러스는 네트워크를 통해 전파된다. 한 컴퓨터가 웜 바이러스에 걸리면 그 컴퓨터와 네트워트상에서 연결되어 있는 모든 컴퓨터는 윔 바이러스에 걸리게 된다.  \n",
    "**Input:**  \n",
    "첮째 줄에는 컴퓨터의 수가 주어진다. 컴퓨터의 수는 100이하인 정수이고 각 컴퓨터에는 1번 부터 차례대로 번호가 매겨진다. 둘째 줄에는 네트워크 상에서 직접 연결되어 있는 컴퓨터 쌍의 수가 주어진다. 이어서 그 수만큼 한 줄에 한 쌍씩 네티워크 상에서 직접 연결되어 있는 컴퓨터의 번호 쌍이 주어진다.  \n",
    "**Output:**  \n",
    "1번 컴퓨터가 웜 바이러스에 걸렸을 때, 1번 컴퓨터를 통해 웜 바이러스에 걸리게 되는 컴퓨터의 수를 첮째 줄에 출력한다."
   ]
  },
  {
   "cell_type": "code",
   "execution_count": 25,
   "id": "c80df2b1-723f-4ac0-bad6-c0814d82f70d",
   "metadata": {},
   "outputs": [
    {
     "name": "stdin",
     "output_type": "stream",
     "text": [
      " 7\n",
      " 6\n",
      " 1 2\n",
      " 2 3\n",
      " 1 5\n",
      " 5 2\n",
      " 5 6\n",
      " 4 7\n"
     ]
    },
    {
     "name": "stdout",
     "output_type": "stream",
     "text": [
      "4\n"
     ]
    }
   ],
   "source": [
    "def virus():\n",
    "    V = int(input())\n",
    "    E = int(input())\n",
    "    adj_list = {vertex+1: [] for vertex in range(V)}\n",
    "    for _ in range(E):\n",
    "        v, u = map(int, input().split())\n",
    "        adj_list[v].append(u)\n",
    "        adj_list[u].append(v)\n",
    "    # Performing DFS\n",
    "    visited = {1}\n",
    "    stack = [1]\n",
    "    while len(stack) != 0:\n",
    "        curr = stack.pop()\n",
    "        ngbrs = adj_list[curr]\n",
    "        for node in ngbrs:\n",
    "            if node in visited:\n",
    "                continue\n",
    "            stack.append(node)\n",
    "            visited.add(node)\n",
    "    print(len(visited) - 1)\n",
    "virus()"
   ]
  },
  {
   "cell_type": "markdown",
   "id": "a7120d96-1641-466d-8f44-bc9252c6f405",
   "metadata": {},
   "source": [
    "### 단지번호붙이기\n",
    "**Question:**  \n",
    "<그림 1>과 같이 정사각형 모양의 지도가 있다. 1은 집이 있는 곳을, 0은 집이 없는 곳을 나타낸다. 철수는 이 지도를 가지고 연결된 집의 모임인 단지를 정외하고, 단지에 번호를 붙이려 한다. 여기서 연결되었다는 것은 어떤 집이 좌우 혹은 아래위로 다른 집이 있는 경우를 말한다. 대각선상에 집에 있는 경우는 연결된 것이 아니다. <그림2>는 <그림1>을 단지별로 번호를 붙인 것이다. 지도를 입력하여 단지수를 출력하고, 각 단지에 속하는 집의 수를 오름차순으로 정렬하여 출력하는 프로그램을 작성하시오.  \n",
    "**Input:**  \n",
    "첮 번째 줄에는 지도의 크기 N(적사각형이므로 가로와 세로의 크기는 같으며 5$\\leq$N$\\leq$25)이 입력되고, 그 다음 N줄에 는 각각 N개의 자료(0혹은 1)가 입력된다.  \n",
    "**Output:**  \n",
    "첮 번째 줄에는 총 단지수를 출력하시오. 그리고 각 단지내 집의 수를 오름차순으로 정렬하여 한 줄에 하나씩 출력하시오"
   ]
  },
  {
   "cell_type": "code",
   "execution_count": 39,
   "id": "fddb1f68-7099-4395-919d-b637d5a97cc1",
   "metadata": {},
   "outputs": [
    {
     "name": "stdin",
     "output_type": "stream",
     "text": [
      " 7\n",
      " 0110100\n",
      " 0110101\n",
      " 1110101\n",
      " 0000111\n",
      " 0100000\n",
      " 0111110\n",
      " 0111000\n"
     ]
    },
    {
     "name": "stdout",
     "output_type": "stream",
     "text": [
      "3\n",
      "7\n",
      "8\n",
      "9\n"
     ]
    }
   ],
   "source": [
    "def bfs(N: int,\n",
    "        start: tuple[int, int],\n",
    "        grid:list[list[str]],\n",
    "        visited:set[tuple[int, int]])->int:\n",
    "    from collections import deque\n",
    "    queue = deque([start])\n",
    "    visited.add(start)\n",
    "    counter = 1\n",
    "    while queue:\n",
    "        curr = queue.popleft()\n",
    "        x, y = curr\n",
    "        # search neighbors\n",
    "        # up\n",
    "        if x - 1 >= 0:\n",
    "            if grid[x-1][y] == '1' and (x-1, y) not in visited:\n",
    "                queue.append((x-1, y))\n",
    "                visited.add((x-1, y))\n",
    "                counter += 1\n",
    "        # down\n",
    "        if x + 1 < N:\n",
    "            if grid[x+1][y] == '1' and (x+1, y) not in visited:\n",
    "                queue.append((x+1, y))\n",
    "                visited.add((x+1, y))\n",
    "                counter += 1\n",
    "        # left\n",
    "        if y - 1 >= 0:\n",
    "            if grid[x][y-1] == '1' and (x, y-1) not in visited:\n",
    "                queue.append((x, y-1))\n",
    "                visited.add((x, y-1))\n",
    "                counter += 1\n",
    "        # right \n",
    "        if y + 1 < N:\n",
    "            if grid[x][y+1] == '1' and (x, y+1) not in visited:\n",
    "                queue.append((x, y+1))\n",
    "                visited.add((x, y+1))\n",
    "                counter += 1\n",
    "    return counter\n",
    "        \n",
    "def count_complex():\n",
    "    N = int(input())\n",
    "    grid = []\n",
    "    visited = set()\n",
    "    result = []\n",
    "    for _ in range(N):\n",
    "        grid.append(list(input()))\n",
    "    for x in range(N):\n",
    "        for y in range(N):\n",
    "            apartment = grid[x][y]\n",
    "            if apartment == '1' and (x,y) not in visited:\n",
    "                result.append(bfs(N, (x,y), grid, visited))\n",
    "    print(len(result))\n",
    "    for item in sorted(result):\n",
    "        print(item)\n",
    "count_complex()"
   ]
  },
  {
   "cell_type": "markdown",
   "id": "451676a4-9242-41d2-bb11-dca1afaa711c",
   "metadata": {},
   "source": [
    "### 촌수계산  \n",
    "**Question:**  \n",
    "우리 나라는 가족 혹은 친척들 사이의 관계를 촌수라는 단위로 표현하는 독특한 문화를 가지고 있다. 이러한 촌수는 다음과 같은 방식으로 계산된다. 기본적으로 부모와 자식 사이를 1촌으로 정의하고 이로부터 사람들 간의 촌수를 계산한다. 예를 들면 나와 아버지, 아버지와 할아버지는 각각 1촌으로 나와 할아버지는 2촌이 되고, 아버지 형제들과 아버지는 1촌, 나의 아버지 형제들과는 3촌이 된다.   여러 사람들에 대한 부모 자식들 간의 관계가 주어졌을 때, 주어진 두 사람의 촌수를 계산하는 프로그램을 작성하시오.  \n",
    "**Input:**  \n",
    "사람들은 $1,2,3,...,n (1 \\leq n \\leq 100) $의 연속된 번호로 각각 표기된다. 입력 파일에 첮째 줄에는 전체 사람의 수 n이 주어지고, 둘째 줄에는 촌수를 계산해야 하는 서로 다른 두 사람의 번호가 주어진다. 그리고 셋째 줄에는 부모 자식들간의 관계의 개수 m이 주어진다. 넷째 줄부터는 부모 자식간의 관계를 나타내는 두 번호 x,y가 각 줄에 나온다. 이때 앞에 나오는 번호 x는 뒤에 나오는 정수 y의 부모 번호를 나타낸다.    \n",
    "각 사람의 부모는 최대 한 명만 주어진다.  \n",
    "**Output:**  \n",
    "입력에서 요구한 두 사람의 촌수를 나타내는 정수를 출력한다. 어떤 경우에는 두 사람의 친척 관계가 전혀 없이 촌수를 계산할 수 없을 때가 있다. 이때에는 -1 를 출력해야 한다."
   ]
  },
  {
   "cell_type": "code",
   "execution_count": 16,
   "id": "112cef88-7879-4252-b4b8-c7205cca46c1",
   "metadata": {},
   "outputs": [
    {
     "name": "stdin",
     "output_type": "stream",
     "text": [
      " 9\n",
      " 8 6\n",
      " 7\n",
      " 1 2\n",
      " 1 3\n",
      " 2 7\n",
      " 2 8\n",
      " 2 9\n",
      " 4 5\n",
      " 4 6\n"
     ]
    },
    {
     "data": {
      "text/plain": [
       "-1"
      ]
     },
     "execution_count": 16,
     "metadata": {},
     "output_type": "execute_result"
    }
   ],
   "source": [
    "def kinship_distance():\n",
    "    from collections import deque\n",
    "    N = int(input())\n",
    "    start, end = map(int, input().split())\n",
    "    M = int(input())\n",
    "    adj_matrix = {i:[] for i in range(1,N+1)}\n",
    "    for _ in range(M):\n",
    "        x, y = map(int, input().split())\n",
    "        adj_matrix[x].append(y)\n",
    "        adj_matrix[y].append(x)\n",
    "    queue = deque([(start, 1)])\n",
    "    visited = {start}\n",
    "    while queue:\n",
    "        curr, dist = queue.popleft()\n",
    "        ngbrs = adj_matrix[curr]\n",
    "        for node in ngbrs:\n",
    "            if node == end:\n",
    "                return dist\n",
    "            if node in visited:\n",
    "                continue\n",
    "            visited.add(node)\n",
    "            queue.append((node, dist+1))\n",
    "    return -1\n",
    "    \n",
    "\n",
    "print(kinship_distance())"
   ]
  },
  {
   "cell_type": "markdown",
   "id": "082f23a2-518c-45a8-bc09-802f44df0bbb",
   "metadata": {},
   "source": [
    "### 토마토\n",
    "*Question:**  \n",
    "철수의 토마토 농장에서는 토마토를 보관하는 큰 창고를 가지고 있다. 토마토는 아래의 그림과 같이 격자모양 상자의 칸에 하나씩 넣은 다음, 상자들을 수직으로 쌓아 올려서 창고에 보관한다.   \n",
    "창고에 보관되는 토마토들 중에는 잘 익은 겄도 있지만, 아직 익지 않은 토마토들도 있을 수 있다. 보관 후 하루가 지나면, 익은 토마토를 인접한 곳에 있는 익지 않은 토마토들은 익은 토마토의 영향을 받아 익게 된다. 하나의 토마토에 인접한 곳은 위, 아래, 왼쪽, 오른쪽, 앞, 뒤 여섯 방향에 있는 토마토를 의미한다. 대각선 방향에 있는 토마토들에게는 영향을 주지 못하며, 토마토가 혼자 저졸로 익는 경우는 없다고 가정한다. 철수는 창고에 보관된 토마토들이 며칠이 지나면 다 익게 되는지 그 최소 일수를 알고 싶어 한다.  \n",
    "토마토를 창고에 보관하는 격자모양의 상자들의 크기와 익은 토마토들과 익지 않은 토마토들의 정보가 주어졌을 때, 며칠이 지나면 토마토들이 모두 익는지, 그 최소 일수를 구하는 프로그램을 작성하라. 단, 상자의 일부 칸에는 토마토가 들어있지 않을 수도 있다.  \n",
    "**Input:**  \n",
    "첮 줄에는 상자의 크기를 나타내는 두 정소 M, N과 쌓아올려지는 상자의 수를 나타내는 H가 주어진다. M은 상자의 가로 칸의 수, N은 상자의 세로 칸의 수를 나타낸다. 단, 2$\\leq$M$\\leq$100, 2$\\leq$N$\\leq$100, 1$\\leq$H$\\leq$100 이다. 둘째 줄부터는 가장 밑의 상자부터 가장 위의 상자까지에 저장된 토마토들의 정보가 주어진다. 즉, 둘째 줄부터 N개의 줄에는 하나의 상자에 담긴 토마토의 정보가 주어진다. 각 줄에는 상자 가로줄에 들어있는 토마토들의 상태가 M개의 정수로 주어진다. 정수 1은 익은 토마토, 정수 0은 아직 익지 않은 토마토, 정수 -1은 토마토가 들어있지 않은 칸을 나타낸다. 이러한 N개의 줄이 H번 반족하여 주어진다.  \n",
    "토마토가 하나 이상 있는 경우만 입력이 주어진다.  \n",
    "**Output:**  \n",
    "여러분은 토마토가 모두 익을 때가지 최소 며칠이 걸리는지를 계산해서 출력해야 한다. 만약, 저장될 때부터 모들 토마토가 익어있는 상태이면 0을 출력해야 하고, 토마토가 모두 익지는 못하는 상황이면 -1을 출력해야 한다."
   ]
  },
  {
   "cell_type": "code",
   "execution_count": 81,
   "id": "30508c57-9163-4bfd-8fb6-ca5c13918535",
   "metadata": {},
   "outputs": [
    {
     "name": "stdin",
     "output_type": "stream",
     "text": [
      " 4 3 2\n",
      " 1 1 1 1\n",
      " 1 1 1 1\n",
      " 1 1 1 1\n",
      " 1 1 1 1\n",
      " -1 -1 -1 -1\n",
      " 1 1 1 -1\n"
     ]
    },
    {
     "data": {
      "text/plain": [
       "0"
      ]
     },
     "execution_count": 81,
     "metadata": {},
     "output_type": "execute_result"
    }
   ],
   "source": [
    "def tomato_two():\n",
    "    from collections import deque\n",
    "    M,N,H = map(int, input().split())\n",
    "    grid = []\n",
    "    index_ones = []\n",
    "    all_ripe = True\n",
    "    # 6 moves in 3D: (dh, dn, dm)\n",
    "    DIRS3D = [(1,0,0), (-1,0,0), (0,1,0), (0,-1,0), (0,0,1), (0,0,-1)]\n",
    "    \n",
    "    for i in range(H):\n",
    "        layer = []\n",
    "        for j in range(N):\n",
    "            row = list(map(int, input().split()))\n",
    "            if 0 in row:\n",
    "                all_ripe = False\n",
    "            if 1 in row:\n",
    "                for index, k in enumerate(row):\n",
    "                    if k  == 1:\n",
    "                        index_ones.append((i,j,index,0))\n",
    "            layer.append(row)\n",
    "        grid.append(layer)\n",
    "    if all_ripe:\n",
    "        return 0\n",
    "\n",
    "    queue = deque(index_ones)\n",
    "    while queue:\n",
    "        curr = queue.popleft()\n",
    "        h,n,m,d = curr\n",
    "        for dh, dn, dm in DIRS3D:\n",
    "            nh, nn, nm = h+dh, n+dn, m+dm\n",
    "            if 0 <= nh < H and 0 <= nn < N and 0 <= nm < M and grid[nh][nn][nm] == 0:\n",
    "                grid[nh][nn][nm] = 1\n",
    "                queue.append((nh,nn,nm,d+1))\n",
    "    for i in range(len(grid)):\n",
    "        for j in range(len(grid[i])):\n",
    "            if 0 in grid[i][j]:\n",
    "                return -1\n",
    "    return d\n",
    "tomato_two()"
   ]
  },
  {
   "cell_type": "code",
   "execution_count": 76,
   "id": "a3786f48-a6c6-4701-b41c-e6c9c60b6fb3",
   "metadata": {},
   "outputs": [
    {
     "name": "stdin",
     "output_type": "stream",
     "text": [
      " 4 3 2\n",
      " 1 1 1 1\n",
      " 1 1 1 1\n",
      " 1 1 1 1\n",
      " 1 1 1 1\n",
      " -1 -1 -1 -1\n",
      " 1 1 1 -1\n"
     ]
    },
    {
     "data": {
      "text/plain": [
       "0"
      ]
     },
     "execution_count": 76,
     "metadata": {},
     "output_type": "execute_result"
    }
   ],
   "source": [
    "def tomato():\n",
    "    from collections import deque\n",
    "    M,N,H = map(int, input().split())\n",
    "    grid = []\n",
    "    index_ones = []\n",
    "    all_ripe = True\n",
    "    for i in range(H):\n",
    "        layer = []\n",
    "        for j in range(N):\n",
    "            row = list(map(int, input().split()))\n",
    "            if 0 in row:\n",
    "                all_ripe = False\n",
    "            # if row contains one store the index to the list\n",
    "            if 1 in row:\n",
    "                for index, k in enumerate(row):\n",
    "                    if k == 1:\n",
    "                        index_ones.append((i,j,index,0))\n",
    "            layer.append(row)\n",
    "        grid.append(layer)\n",
    "    if all_ripe:\n",
    "        return 0\n",
    "    queue = deque(index_ones)\n",
    "    while queue:\n",
    "        curr = queue.popleft()\n",
    "        h,n,m,d = curr\n",
    "        if h-1 >= 0 and grid[h-1][n][m] != -1:\n",
    "            if grid[h-1][n][m] == 0:\n",
    "                queue.append((h-1,n,m,d+1))\n",
    "                grid[h-1][n][m] = 1\n",
    "        if h+1 < H and grid[h+1][n][m] != -1:\n",
    "            if grid[h+1][n][m] == 0:\n",
    "                queue.append((h+1,n,m,d+1))\n",
    "                grid[h+1][n][m] = 1\n",
    "        if n-1 >= 0 and grid[h][n-1][m] != -1:\n",
    "            if grid[h][n-1][m] == 0:\n",
    "                queue.append((h,n-1,m,d+1))\n",
    "                grid[h][n-1][m] = 1\n",
    "        if n+1 < N and grid[h][n+1][m] != -1:\n",
    "            if grid[h][n+1][m] == 0:\n",
    "                queue.append((h,n+1,m,d+1))\n",
    "                grid[h][n+1][m] = 1\n",
    "        if m-1 >= 0 and grid[h][n][m-1] != -1:\n",
    "            if grid[h][n][m-1] == 0:\n",
    "                queue.append((h,n,m-1,d+1))\n",
    "                grid[h][n][m-1] = 1\n",
    "        if m+1 < M and grid[h][n][m+1] != -1:\n",
    "            if grid[h][n][m+1] == 0:\n",
    "                queue.append((h,n,m+1,d+1))\n",
    "                grid[h][n][m+1] = 1\n",
    "    for i in range(len(grid)):\n",
    "        for j in range(len(grid[i])):\n",
    "            if 0 in grid[i][j]:\n",
    "                return -1\n",
    "    return d\n",
    "print(tomato())"
   ]
  },
  {
   "cell_type": "markdown",
   "id": "98ba4cfa-2e62-4f21-9f76-07585c3fa1ff",
   "metadata": {},
   "source": [
    "### 숨바꼭질  \n",
    "**Question:**  \n",
    "수빈이는 동생과 숨바꼭질을 하고 있다. 수빈이는 현재 점 N(0$\\leq$N$\\leq$100,000)에 있고, 동생의 점 K(0$\\leq$K$\\leq$100,000)에 있다. 수빈이는 걷거나 순간이동을 할수 있다. 만약, 수빈이의 위치가 X일 때 걷는다면 1초 후에 X-1 또는 X+1로 이동하게 된다. 순간이동을 하는 경우에는 1초 후에 2*X의 위치로 이동하게 된다.  \n",
    "수빈이와 동생의 위치가 주어졌을 때, 수빈이가 동생을 찾을 수 있는 가장 빠른 시간이 몇 초 후인지 구하는 프로그램을 작성하시오.  \n",
    "**Input:**  \n",
    "첮 번쨰 줄에 수빈이가 있는 위치 N과 동생이 있는 위치 K가 주어진다. N과 K는 정수이다.  \n",
    "**Output:**  \n",
    "수빈이가 동생을 찾는 가장 빠른 시간을 출력한다.  "
   ]
  },
  {
   "cell_type": "code",
   "execution_count": 103,
   "id": "d28e47cd-c540-4f28-8eca-3306e94dd16a",
   "metadata": {},
   "outputs": [
    {
     "name": "stdin",
     "output_type": "stream",
     "text": [
      " 0 1\n"
     ]
    },
    {
     "data": {
      "text/plain": [
       "1"
      ]
     },
     "execution_count": 103,
     "metadata": {},
     "output_type": "execute_result"
    }
   ],
   "source": [
    "def hide_and_seek():\n",
    "    from collections import deque\n",
    "    N, M = map(int, input().split())\n",
    "    if N == M:\n",
    "        return 0\n",
    "    queue = deque([(N,0)])\n",
    "    visited = {N}\n",
    "    while queue:\n",
    "        curr, time = queue.popleft()\n",
    "        ngbrs = [2*curr, curr-1, curr+1]\n",
    "        for node in ngbrs:\n",
    "            if node in visited:\n",
    "                continue\n",
    "            if node == M:\n",
    "                return time + 1\n",
    "            queue.append((node, time+1))\n",
    "            visited.add(node)\n",
    "    return time\n",
    "\n",
    "print(hide_and_seek())"
   ]
  },
  {
   "cell_type": "code",
   "execution_count": 3,
   "id": "b5470a01-66fd-4d89-8567-7b84a2cbbdf6",
   "metadata": {},
   "outputs": [
    {
     "name": "stdin",
     "output_type": "stream",
     "text": [
      " 5 17\n"
     ]
    },
    {
     "name": "stdout",
     "output_type": "stream",
     "text": [
      "4\n"
     ]
    }
   ],
   "source": [
    "def hide_and_seek():\n",
    "    from collections import deque\n",
    "\n",
    "    MAX = 100000\n",
    "    N, M = map(int, input().split())\n",
    "    if N == M:\n",
    "        return 0\n",
    "\n",
    "    queue = deque([(N, 0)])\n",
    "    visited = [False] * (MAX + 1)\n",
    "    visited[N] = True\n",
    "\n",
    "    while queue:\n",
    "        curr, time = queue.popleft()\n",
    "        for node in (curr * 2, curr - 1, curr + 1):\n",
    "            if 0 <= node <= MAX and not visited[node]:   # clamp to bounds\n",
    "                if node == M:\n",
    "                    return time + 1\n",
    "                visited[node] = True\n",
    "                queue.append((node, time + 1))\n",
    "\n",
    "    return -1  # unreachable (shouldn't happen for this problem)\n",
    "\n",
    "print(hide_and_seek())"
   ]
  },
  {
   "cell_type": "markdown",
   "id": "339e80eb-4753-4409-9d66-724258259a65",
   "metadata": {},
   "source": [
    "### 스트링크  \n",
    "**Question:**  \n",
    "강호는 코딩 교육을 하는 스타트업 스타링크에 지원했다. 오늘은 강호의 면접날이다. 하지만, 늦잠을 잔 강호는 스타링크가 있는 건물에 늦게 도착하고 말았다.  \n",
    "스트링크는 총 F층으로 이루어진 고층 건물에 사무실에 있고, 스타링트가 있는 곳의 위치는 G층이다. 강호가 지금 있는 곳은 S층이고, 이제 엘리베이터를 타고 G층으로 이동하려고 한다.  \n",
    "보통 엘리베이터에는 어떤 층으로 이동할 수 있는 버튼이 있지만, 강호가 탄 엘리베이터는 버튼이 2개밖에 없다. U버튼은 위로 U층을 가는 버튼, D버튼은 아래로 D층을 가는 버튼이다. (만약, U층 위, 또는 D층 아래에 해당하는 층이 없을 때는, 엘리베이터는 움직이지 않는다)  \n",
    "강호가 G층에 도착하려먼, 버튼을 적어도 몇 번 눌러야 하는지 프로그램을 작성하시오. 만약, 엘리베이터를 이용해서 G층에 갈 수 없으면, \"use the stairs\"를 출력한다.  \n",
    "**Input:**  \n",
    "첮째 줄에 F,S,G,U,D가 주어진다. (1$\\leq$S, G$\\leq$F$\\leq$1000000, 0$\\leq$U, D$\\leq$1000000) 건물은 1층부터 시작하고, 가장 높은 층은 F층이다.  \n",
    "**Output:**  \n",
    "첮째 줄에 강호가 S층에서 G층으로 가기 위해 눌러야 하는 버튼의 수의 최솟값을 출력한다. 만약, 엘리베이터로 이동 할 수 없을 때는 \"use the stairs\"를 출력한다."
   ]
  },
  {
   "cell_type": "code",
   "execution_count": 19,
   "id": "369acb39-7a56-44d7-a255-2622c0c9971d",
   "metadata": {},
   "outputs": [
    {
     "name": "stdin",
     "output_type": "stream",
     "text": [
      " 10 1 10 2 1\n"
     ]
    },
    {
     "name": "stdout",
     "output_type": "stream",
     "text": [
      "6\n"
     ]
    }
   ],
   "source": [
    "def starlink():\n",
    "    from collections import deque\n",
    "    F,S,G,U,D = map(int, input().split())\n",
    "    if S == G:\n",
    "        return 0\n",
    "    queue = deque([(S, 0)])\n",
    "    visited = {S}\n",
    "    iteration = 0\n",
    "    while queue:\n",
    "        curr = queue.popleft()\n",
    "        floor, count = curr\n",
    "        ngbrs = [floor+U, floor-D]\n",
    "        iteration += 1\n",
    "        for node in ngbrs:\n",
    "            # check if it is out of bound\n",
    "            if 1 <= node <= F and node not in visited:\n",
    "                queue.append((node, count + 1))\n",
    "                visited.add(node)\n",
    "                if node == G:\n",
    "                    return count + 1\n",
    "    return \"use the stairs\"\n",
    "\n",
    "print(starlink())"
   ]
  },
  {
   "cell_type": "markdown",
   "id": "4b9fa924-5cf8-4e84-91a5-f6816ffe4366",
   "metadata": {},
   "source": [
    "### 맥주 마시면서 걸어가기  \n",
    "**Question:**  \n",
    "송도에 사는 상근이와 친구들은 송도에서 열리는 펜타포트 락 페스티벌에 가려고 한다. 올해는 맥주를 마시면서 걸어 가기로 했다. 출발은 상근이네 집에서 하고, 맥주 한 박스를 들고 출발한다. 맥주 한 박스에는 맥주가 20개 들어있다. 목이 마르면 안되기 때문에 50미터에 한 병씩 마시려고 한다. 즉, 50미터를 가려면 그 직전에 맥주 한병을 마셔야 한다.  \n",
    "상근이의 집에서 페스티벌이 열리는 곳은 매우 먼 거리이다. 따라서, 맥주를 더 구매해야 할 수도 있다. 미리 인터넷으로 조사를 해보니 다행이도 맥주를 파는 편의점이 있다. 편의점에 들렸을 때, 빈 병은 버리고 새 맥주 병을 살 수 있다. 하지만, 박스에 들어있는 맥주는 20병을 넘을 수 없다. 편의점을 나선 직후에도 50미터를 가기 전에 맥주 한 병을 마셔야 한다.  \n",
    "편의점, 상근이네 집, 펜타포트 락 페스티벌의 좌표가 주어진다. 상근이와 친구들이 행복하게 페스티벌에 도착할 수 있는지 구하는 프로그램을 작성하시오.  \n",
    "**Input:**  \n",
    "첯째 줄에 테스트 케이스와 개수 t가 주어진다. (t$\\leq$50)  \n",
    "각 테스트 케이스의 첮재 줄에는 맥주를 파는 편의점의 개수 n이 주어진다. (0$\\leq$n$\\leq$).\n",
    "다음 n+2개 줄에는 상근이네 집, 편의점, 펜타포트 락 페스티벌 좌표가 주어진다. 각 좌표는 두 정수 x와 y로 이루어져 있다. (두 값 모두 미터. -32768$\\leq$x,y$\\leq$32767)  \n",
    "송도는 직사각형 모양으로 생긴 도시이다. 두 좌표 사이의 거리는 x 좌표의 차이 +y 죄표의 차이 이다. (맨해튼 거리)  \n",
    "**Output:**  \n",
    "각 테스트 케이스에 대해서 상근이와 친구들이 행복하게 페스티벌에 갈 수 있어면 \"happy\", 중간에 맥주가 바닥나서 더 이동할 수 없으면 \"sad\"를 출력한다. "
   ]
  },
  {
   "cell_type": "code",
   "execution_count": 35,
   "id": "313ae6d7-f4c2-4c70-96d6-b2f8ebcaf665",
   "metadata": {},
   "outputs": [
    {
     "name": "stdin",
     "output_type": "stream",
     "text": [
      " 2\n",
      " 2\n",
      " 0 0\n",
      " 1000 0\n",
      " 1000 1000\n",
      " 2000 1000\n",
      " 2\n",
      " 0 0\n",
      " 1000 0\n",
      " 2000 1000\n",
      " 2000 2000\n"
     ]
    },
    {
     "name": "stdout",
     "output_type": "stream",
     "text": [
      "happy\n",
      "sad\n"
     ]
    }
   ],
   "source": [
    "def beer_walk():\n",
    "    test_case = int(input())\n",
    "    results = []\n",
    "    for _ in range(test_case):\n",
    "        result = 'sad'\n",
    "        adj_list = {}\n",
    "        num_store = int(input())\n",
    "        start = tuple(map(int, input().split()))\n",
    "        adj_list[start] = []\n",
    "        for _ in range(num_store):\n",
    "            store = tuple(map(int, input().split()))\n",
    "            adj_list[store] = []\n",
    "            for node in adj_list:\n",
    "                if node == store:\n",
    "                    continue\n",
    "                if abs(node[0] - store[0]) + abs(node[1] - store[1]) <= 1000:\n",
    "                    adj_list[store].append(node)\n",
    "                    adj_list[node].append(store)\n",
    "        festival = tuple(map(int, input().split()))\n",
    "        adj_list[festival] = []\n",
    "        for node in adj_list:\n",
    "            if node == festival:\n",
    "                continue\n",
    "            if abs(node[0] - festival[0]) + abs(node[1] - festival[1]) <= 1000:\n",
    "                adj_list[node].append(festival)\n",
    "                adj_list[festival].append(node)\n",
    "\n",
    "\n",
    "        # Run BFS\n",
    "        from collections import deque\n",
    "        queue = deque([start])\n",
    "        visited = {start}\n",
    "        while queue:\n",
    "            curr = queue.popleft()\n",
    "            ngbrs = adj_list[curr]\n",
    "            for node in ngbrs:\n",
    "                if node in visited:\n",
    "                    continue\n",
    "                if node == festival:\n",
    "                    result = 'happy'\n",
    "                queue.append(node)\n",
    "                visited.add(node)\n",
    "        results.append(result)\n",
    "    for result in results:\n",
    "        print(result)\n",
    "\n",
    "\n",
    "beer_walk()"
   ]
  },
  {
   "cell_type": "markdown",
   "id": "8a9bf507-7119-4310-a307-78aebdb4c745",
   "metadata": {},
   "source": [
    "### 로봇 청소기\n",
    "**Question:**  \n",
    "로봇 청소기와 방의 상태가 주어졌을 때, 청소하는 영역의 개수를 구하는 프로그램을 작성하시오.\n",
    "\n",
    "로봇 청소기가 있는 방은 N x M 크기의 직사각형으로 나타낼수 있으며, 1 x 1 크기의 정사각형 칸으로 나누어져 있다. 각각의 칸은 벽 또는 빈 칸이다. 청소기는 바라보는 방향이 있으며, 이 방향은 동, 서, 남, 북 중 하나이다. 방의 각 칸은 좌표 (r,c)로 나타낼 수 있고, 가장 북쪽 중의 가장 서쪽 칸의 좌표가 (0,0), 가장 남쪽 줄의 가장 동쪽 칸의 좌표가 (N-1, M-1)이다. 즉, 좌표 (r,c)는 북쪽에서 (r+1)번째에 있는 줄의 서쪽에서 (c+1)번째 칸을 가르킨다. 처음에 빈 칸은 전부 청소되지 않은 상태이다.\n",
    "\n",
    "로봇 청소기는 다음과 같이 작동한다.\n",
    "\n",
    "1. 현재 칸이 아직 청소되지 않은 경우, 현재 칸을 청소한다.\n",
    "2. 현재 칸의 주면 4칸중 청소되지 않은 빈 칸이 없는 경우,\n",
    "     1. 바라보는 방향을 유지한 채로 한 칸 후진할 수 있다면 한 칸 후진하고 1번으로 돌아간다.\n",
    "     2. 바라보는 방향의 뒤쪽 칸이 벽이라 후진할 수 없다면 작동을 멈춘다.\n",
    "3. 현재 칸의 주변 4칸ㄴ 중 청소되지 않은 빈 칸이 있는 경우,\n",
    "     1. 반시계 방향으로 90° 회전한다.\n",
    "     2. 바라보는 방향을 기준으로 앞쪽 칸이 청소되지 않은 빈 칸인 경우 한 칸 전진한다.\n",
    "     3. 1번으로 돌아간다.\n",
    "\n",
    "\n",
    "**Input:**  \n",
    "첮째 줄에 방의 크기 N과 M이 입력된다. (3 $\\leq$ N, M $\\leq$ 50) 둘째 줄에 처음에 로봇 청소기가 있는 칸의 좌표 (r, c)와 처음에 로봇 청소기가 바라보는 방향 d가 입력된다. d가 0인 경우 북쪽, 1인 경우 동쪽, 2인 경우 남쪽, 3인 경우 서쪽을 바라보고 있는 것이다.\n",
    "\n",
    "셋째 줄버터 N개의 줄에 각 장소의 상태를 나타내는 N x M개의 값이 한 줄에 M개씩 입력된다. i번째 줄의 j번 째 깞은 칸 (i,j)의 상태를 나타내며, 이 값은 0인 경우 (i,j)가 청소되지 않은 빈 칸이고, 1인 경우 (i,j)에 벽이 있는 것이다. 방의 가장 북쪽, 가장 남쪽, 가장 서쪽, 가장 동쪽 줄 중 하나 이상에 위치한 모든 칸에는 벽이 있다. 로봇 청소기가 있는 칸은 항상 빈 칸이다. \n",
    "\n",
    "\n",
    "**Output:**  \n",
    "로봇 청소기가 작동을 시작한 후 작동을 멈출 때까지 청소하는 칸의 개수를 출력한다."
   ]
  },
  {
   "cell_type": "code",
   "execution_count": 83,
   "id": "3848db7c-bad3-4b1e-9202-7835abd868c5",
   "metadata": {},
   "outputs": [
    {
     "ename": "KeyboardInterrupt",
     "evalue": "Interrupted by user",
     "output_type": "error",
     "traceback": [
      "\u001b[0;31m---------------------------------------------------------------------------\u001b[0m",
      "\u001b[0;31mKeyboardInterrupt\u001b[0m                         Traceback (most recent call last)",
      "Cell \u001b[0;32mIn[83], line 8\u001b[0m\n\u001b[1;32m      6\u001b[0m         grid\u001b[38;5;241m.\u001b[39mappend(\u001b[38;5;28mlist\u001b[39m(\u001b[38;5;28mmap\u001b[39m(\u001b[38;5;28mint\u001b[39m, \u001b[38;5;28minput\u001b[39m()\u001b[38;5;241m.\u001b[39msplit())))\n\u001b[1;32m      7\u001b[0m     \u001b[38;5;28mprint\u001b[39m(grid)\n\u001b[0;32m----> 8\u001b[0m \u001b[43mrobot\u001b[49m\u001b[43m(\u001b[49m\u001b[43m)\u001b[49m\n",
      "Cell \u001b[0;32mIn[83], line 2\u001b[0m, in \u001b[0;36mrobot\u001b[0;34m()\u001b[0m\n\u001b[1;32m      1\u001b[0m \u001b[38;5;28;01mdef\u001b[39;00m \u001b[38;5;21mrobot\u001b[39m():\n\u001b[0;32m----> 2\u001b[0m     N, M \u001b[38;5;241m=\u001b[39m \u001b[38;5;28mmap\u001b[39m(\u001b[38;5;28mint\u001b[39m, \u001b[38;5;28;43minput\u001b[39;49m\u001b[43m(\u001b[49m\u001b[43m)\u001b[49m\u001b[38;5;241m.\u001b[39msplit())\n\u001b[1;32m      3\u001b[0m     r, c, d \u001b[38;5;241m=\u001b[39m \u001b[38;5;28mmap\u001b[39m(\u001b[38;5;28mint\u001b[39m, \u001b[38;5;28minput\u001b[39m()\u001b[38;5;241m.\u001b[39msplit())\n\u001b[1;32m      4\u001b[0m     grid \u001b[38;5;241m=\u001b[39m []\n",
      "File \u001b[0;32m~/Library/Python/3.9/lib/python/site-packages/ipykernel/kernelbase.py:1282\u001b[0m, in \u001b[0;36mKernel.raw_input\u001b[0;34m(self, prompt)\u001b[0m\n\u001b[1;32m   1280\u001b[0m     msg \u001b[38;5;241m=\u001b[39m \u001b[38;5;124m\"\u001b[39m\u001b[38;5;124mraw_input was called, but this frontend does not support input requests.\u001b[39m\u001b[38;5;124m\"\u001b[39m\n\u001b[1;32m   1281\u001b[0m     \u001b[38;5;28;01mraise\u001b[39;00m StdinNotImplementedError(msg)\n\u001b[0;32m-> 1282\u001b[0m \u001b[38;5;28;01mreturn\u001b[39;00m \u001b[38;5;28;43mself\u001b[39;49m\u001b[38;5;241;43m.\u001b[39;49m\u001b[43m_input_request\u001b[49m\u001b[43m(\u001b[49m\n\u001b[1;32m   1283\u001b[0m \u001b[43m    \u001b[49m\u001b[38;5;28;43mstr\u001b[39;49m\u001b[43m(\u001b[49m\u001b[43mprompt\u001b[49m\u001b[43m)\u001b[49m\u001b[43m,\u001b[49m\n\u001b[1;32m   1284\u001b[0m \u001b[43m    \u001b[49m\u001b[38;5;28;43mself\u001b[39;49m\u001b[38;5;241;43m.\u001b[39;49m\u001b[43m_parent_ident\u001b[49m\u001b[43m[\u001b[49m\u001b[38;5;124;43m\"\u001b[39;49m\u001b[38;5;124;43mshell\u001b[39;49m\u001b[38;5;124;43m\"\u001b[39;49m\u001b[43m]\u001b[49m\u001b[43m,\u001b[49m\n\u001b[1;32m   1285\u001b[0m \u001b[43m    \u001b[49m\u001b[38;5;28;43mself\u001b[39;49m\u001b[38;5;241;43m.\u001b[39;49m\u001b[43mget_parent\u001b[49m\u001b[43m(\u001b[49m\u001b[38;5;124;43m\"\u001b[39;49m\u001b[38;5;124;43mshell\u001b[39;49m\u001b[38;5;124;43m\"\u001b[39;49m\u001b[43m)\u001b[49m\u001b[43m,\u001b[49m\n\u001b[1;32m   1286\u001b[0m \u001b[43m    \u001b[49m\u001b[43mpassword\u001b[49m\u001b[38;5;241;43m=\u001b[39;49m\u001b[38;5;28;43;01mFalse\u001b[39;49;00m\u001b[43m,\u001b[49m\n\u001b[1;32m   1287\u001b[0m \u001b[43m\u001b[49m\u001b[43m)\u001b[49m\n",
      "File \u001b[0;32m~/Library/Python/3.9/lib/python/site-packages/ipykernel/kernelbase.py:1325\u001b[0m, in \u001b[0;36mKernel._input_request\u001b[0;34m(self, prompt, ident, parent, password)\u001b[0m\n\u001b[1;32m   1322\u001b[0m \u001b[38;5;28;01mexcept\u001b[39;00m \u001b[38;5;167;01mKeyboardInterrupt\u001b[39;00m:\n\u001b[1;32m   1323\u001b[0m     \u001b[38;5;66;03m# re-raise KeyboardInterrupt, to truncate traceback\u001b[39;00m\n\u001b[1;32m   1324\u001b[0m     msg \u001b[38;5;241m=\u001b[39m \u001b[38;5;124m\"\u001b[39m\u001b[38;5;124mInterrupted by user\u001b[39m\u001b[38;5;124m\"\u001b[39m\n\u001b[0;32m-> 1325\u001b[0m     \u001b[38;5;28;01mraise\u001b[39;00m \u001b[38;5;167;01mKeyboardInterrupt\u001b[39;00m(msg) \u001b[38;5;28;01mfrom\u001b[39;00m \u001b[38;5;28;01mNone\u001b[39;00m\n\u001b[1;32m   1326\u001b[0m \u001b[38;5;28;01mexcept\u001b[39;00m \u001b[38;5;167;01mException\u001b[39;00m:\n\u001b[1;32m   1327\u001b[0m     \u001b[38;5;28mself\u001b[39m\u001b[38;5;241m.\u001b[39mlog\u001b[38;5;241m.\u001b[39mwarning(\u001b[38;5;124m\"\u001b[39m\u001b[38;5;124mInvalid Message:\u001b[39m\u001b[38;5;124m\"\u001b[39m, exc_info\u001b[38;5;241m=\u001b[39m\u001b[38;5;28;01mTrue\u001b[39;00m)\n",
      "\u001b[0;31mKeyboardInterrupt\u001b[0m: Interrupted by user"
     ]
    }
   ],
   "source": [
    "def robot():\n",
    "    N, M = map(int, input().split())\n",
    "    r, c, d = map(int, input().split())\n",
    "    grid = []\n",
    "    for _ in range(N):\n",
    "        grid.append(list(map(int, input().split())))\n",
    "    print(grid)\n",
    "robot()"
   ]
  },
  {
   "cell_type": "code",
   "execution_count": 87,
   "id": "1a50ffed-439f-48e2-9952-0b643eb9d885",
   "metadata": {},
   "outputs": [
    {
     "data": {
      "text/plain": [
       "[[1, 0, 1, 1], [1, 0, 0, 1], [1, 1, 1, 1]]"
      ]
     },
     "execution_count": 87,
     "metadata": {},
     "output_type": "execute_result"
    }
   ],
   "source": [
    "N, M = 3, 4\n",
    "r, c, d = 1, 1, 1\n",
    "grid = [[1, 0, 1, 1], [1, 0, 0, 1], [1, 1, 1, 1]]\n",
    "grid"
   ]
  },
  {
   "cell_type": "code",
   "execution_count": 86,
   "id": "9c3ac488-81a4-4bdf-b43a-94ccd5ea6fc8",
   "metadata": {},
   "outputs": [
    {
     "name": "stdout",
     "output_type": "stream",
     "text": [
      "iteration: 0\n",
      "1\n",
      "iteration: 1\n",
      "2\n",
      "iteration: 2\n",
      "2\n",
      "iteration: 3\n",
      "2\n",
      "iteration: 4\n",
      "2\n",
      "iteration: 5\n",
      "3\n",
      "iteration: 6\n"
     ]
    }
   ],
   "source": [
    "# if d is 0:North(Top), 1:East(Right), 2:South(Down), 3:West(Left)\n",
    "# 1. if the current space is not cleaned, clean it\n",
    "# 2. if the four sides of the current space are cleaned:\n",
    "#    2.1 face the same direction and if possible move back\n",
    "#    2.2 If it is not possible to move back, stop the machine\n",
    "# 3. If there is a side (from the four) that is not currently cleaned\n",
    "#    3.1 Move the machine 90° anti-clock wise (left)\n",
    "#    3.2 If the side that is facing is not cleaned move forward and clean it\n",
    "#    3.3 Go back to 1\n",
    "\n",
    "def check_surrounding(grid, x, y, N, M):\n",
    "    \"\"\"\n",
    "    return True if there is surrounding that can be cleaned else return False\n",
    "    \"\"\"\n",
    "    return True if grid[x+1][y] == 0 or grid[x-1][y] == 0 or grid[x][y+1] == 0 or grid[x][y-1] == 0 else False\n",
    "\n",
    "\n",
    "count = 0\n",
    "x, y = r, c\n",
    "iteration = 0\n",
    "while True:\n",
    "    print(f'iteration: {iteration}')\n",
    "    iteration += 1\n",
    "    if grid[x][y] == 0:\n",
    "        count += 1\n",
    "        grid[x][y] = 2\n",
    "    # check the four sides of the current position\n",
    "    if not check_surrounding(grid, x, y, N, M):  # if there is nothing to clean\n",
    "        if d == 0:  # facing north\n",
    "            if grid[x+1][y] != 1:\n",
    "                x = x+1\n",
    "            else:\n",
    "                break\n",
    "        if d == 1:  # facing east\n",
    "            if grid[x][y-1] != 1:\n",
    "                y = y-1\n",
    "            else:\n",
    "                break\n",
    "        if d == 2:  # facing south\n",
    "            if grid[x-1][y] != 1:\n",
    "                x = x-1\n",
    "            else:\n",
    "                break\n",
    "        if d == 4:  # facing west\n",
    "            if grid[x][y+1] != 1:\n",
    "                y = y + 1\n",
    "            else:\n",
    "                break\n",
    "    else:  # if there is a place to clean\n",
    "        # move the direction\n",
    "        if d-1 < 0:\n",
    "            d = 3\n",
    "        else:\n",
    "            d -= 1\n",
    "        if d == 0:  # facking north\n",
    "            if grid[x-1][y] != 1:\n",
    "                x = x-1\n",
    "        if d == 1:  # facing east\n",
    "            if grid[x][y+1] != 1:\n",
    "                y = y+1\n",
    "        if d == 2:  # facing south\n",
    "            if grid[x+1][y] != 1:\n",
    "                x = x+1\n",
    "        if d == 3:  # facking west\n",
    "            if grid[x][y-1] != 1:\n",
    "                y = y - 1\n",
    "    print(count)"
   ]
  },
  {
   "cell_type": "markdown",
   "id": "d31e063f-5459-4fab-9a3b-403c5bb87141",
   "metadata": {},
   "source": [
    "### 안전 영역\n",
    "\n",
    "\n",
    "**Question:**  \n",
    "재난방재청에서는 많은 비가 내리는 장마철에 대비해서 다음과 같은 일을 계확하고 있다. 먼저 어떤 지역의 높이 정보를 파악한다. 그 다음에 그 지역에 많은 비가 내렸을 때 물에 잠기지 않은 안전한 영역이 최대로 몇 개가 만들어 지는 지를 조사하려고 한다. 이때, 문제를 간단하게 하기 위하여 장마철에 내리는 비의 양에 따라 일정한 높이 이하의 모든 지점은 물에 잠긴다고 가정한다.\n",
    "\n",
    "어쩐 지역의 높은 정보는 행과 열의 크기가 각각 N인 2차원 배열 형태로 주어지며 배열의 각 원소는 해당 지점의 높이를 표시하는 지수이다. 예를 들어 다음은 N=5인 지역의 높이 정보이다.\n",
    "\n",
    "<table border=\"1\" cellspacing=\"0\" cellpadding=\"8\" style=\"border-collapse: collapse; text-align: center;\">\n",
    "  <tr>\n",
    "    <td>6</td>\n",
    "    <td>8</td>\n",
    "    <td>2</td>\n",
    "    <td>6</td>\n",
    "    <td>2</td>\n",
    "  </tr>\n",
    "  <tr>\n",
    "    <td>3</td>\n",
    "    <td>2</td>\n",
    "    <td>3</td>\n",
    "    <td>4</td>\n",
    "    <td>6</td>\n",
    "  </tr>\n",
    "  <tr>\n",
    "    <td>6</td>\n",
    "    <td>7</td>\n",
    "    <td>3</td>\n",
    "    <td>3</td>\n",
    "    <td>2</td>\n",
    "  </tr>\n",
    "  <tr>\n",
    "    <td>7</td>\n",
    "    <td>2</td>\n",
    "    <td>5</td>\n",
    "    <td>3</td>\n",
    "    <td>6</td>\n",
    "  </tr>\n",
    "  <tr>\n",
    "    <td>8</td>\n",
    "    <td>9</td>\n",
    "    <td>5</td>\n",
    "    <td>2</td>\n",
    "    <td>7</td>\n",
    "  </tr>\n",
    "</table>\n",
    "\n",
    "\n",
    "이제 위와 같은 지경에 많은 비가 내려서 높이가 4 이하인 모든 지점이 물에 잠겼다고 하자. 이 경우에 물에 잠기는 지점을 회색으로 표시하면 다음과 같다.\n",
    "\n",
    "<table>\n",
    "  <tr>\n",
    "    <td>6</td>\n",
    "    <td>8</td>\n",
    "    <td style=\"background-color:lightgray;\">2</td>\n",
    "    <td>6</td>\n",
    "    <td style=\"background-color:lightgray;\">2</td>\n",
    "  </tr>\n",
    "  <tr>\n",
    "    <td style=\"background-color:lightgray;\">3</td>\n",
    "    <td style=\"background-color:lightgray;\">2</td>\n",
    "    <td style=\"background-color:lightgray;\">3</td>\n",
    "    <td>4</td>\n",
    "    <td style=\"background-color:lightgray;\">6</td>\n",
    "  </tr>\n",
    "  <tr>\n",
    "    <td>6</td>\n",
    "    <td>7</td>\n",
    "    <td style=\"background-color:lightgray;\">3</td>\n",
    "    <td style=\"background-color:lightgray;\">3</td>\n",
    "    <td style=\"background-color:lightgray;\">2</td>\n",
    "  </tr>\n",
    "  <tr>\n",
    "    <td>7</td>\n",
    "    <td style=\"background-color:lightgray;\">2</td>\n",
    "    <td>5</td>\n",
    "    <td>3</td>\n",
    "    <td>6</td>\n",
    "  </tr>\n",
    "  <tr>\n",
    "    <td>8</td>\n",
    "    <td>9</td>\n",
    "    <td>5</td>\n",
    "    <td style=\"background-color:lightgray;\">2</td>\n",
    "    <td>7</td>\n",
    "  </tr>\n",
    "</table>\n",
    "\n",
    "\n",
    "물에 잠기지 않은 안전한 영역이라 함은 물에 잠기자 않은 지점들이 위, 아래, 오른쪽 혹은 왼쪽으로 인접해 있으며 그 크기가 최대인 영역을 말한다. 위의 경우에서 물에 잠기지 않은 안전한 영역은 5개가 된다(꼭짓점으로만 붙어 있는 두 지점은 인접하지 않는다고 취급한다).\n",
    "\n",
    "또한 위와 같은 지역에서 높이가 6이하인 지점을 모두 잠기게 만드는 많은 비가 내리면 물에 잠기지 않은 안전한 영역은 아래 그림에서와 같이 네 개가 됨을 확인할 수 있다.\n",
    "\n",
    "<table border=\"1\" cellspacing=\"0\" cellpadding=\"8\" style=\"border-collapse: collapse; text-align: center;\">\n",
    "  <tr>\n",
    "    <td style=\"background-color:lightgray;\">6</td>\n",
    "    <td>8</td>\n",
    "    <td style=\"background-color:lightgray;\">2</td>\n",
    "    <td style=\"background-color:lightgray;\">6</td>\n",
    "    <td style=\"background-color:lightgray;\">2</td>\n",
    "  </tr>\n",
    "  <tr>\n",
    "    <td>3</td>\n",
    "    <td style=\"background-color:lightgray;\">2</td>\n",
    "    <td style=\"background-color:lightgray;\">3</td>\n",
    "    <td style=\"background-color:lightgray;\">4</td>\n",
    "    <td style=\"background-color:lightgray;\">6</td>\n",
    "  </tr>\n",
    "  <tr>\n",
    "    <td style=\"background-color:lightgray;\">6</td>\n",
    "    <td>7</td>\n",
    "    <td style=\"background-color:lightgray;\">3</td>\n",
    "    <td style=\"background-color:lightgray;\">3</td>\n",
    "    <td style=\"background-color:lightgray;\">2</td>\n",
    "  </tr>\n",
    "  <tr>\n",
    "    <td>7</td>\n",
    "    <td style=\"background-color:lightgray;\">2</td>\n",
    "    <td style=\"background-color:lightgray;\">5</td>\n",
    "    <td style=\"background-color:lightgray;\">3</td>\n",
    "    <td style=\"background-color:lightgray;\">6</td>\n",
    "  </tr>\n",
    "  <tr>\n",
    "    <td>8</td>\n",
    "    <td>9</td>\n",
    "    <td style=\"background-color:lightgray;\">5</td>\n",
    "    <td style=\"background-color:lightgray;\">2</td>\n",
    "    <td>7</td>\n",
    "  </tr>\n",
    "</table>\n",
    "\n",
    "이와 같이 장마철에 내리는 비의 양에 따라서 물에 잠기지 않은 안전한 영역의 개수는 다르게 된다. 위와 예가 같은 지역에서 내리는 비의 양에 따른 모든 경우를 다 조사해 보면 물에 잠기지 않은 안전한 영역의 개수 중에서 최대인 경우는 5임을 알 수 있다.\n",
    "\n",
    "어떤 지역의 높이 정보가 주어졌을 때, 장마청에 물에 잠기지 않은 안전한 영역의 최대 개수를 계산하는 프로그램을 작성하시오.\n",
    "\n",
    "**Input:**  \n",
    "첮째 줄에는 어떤 지역을 나타내는 2차원 배열의 행과 열의 개수를 나타내는 수 N이 입력된다. N은 2 이상 100 이하의 정수이다. 둘째 줄부터 N개의 각 줄에는 2차원 배열의 첫 번째 행부터 N번째 행까지 순서대로 한 행씩 높이 정보가 입력된다. 각 줄에는 각 행의 첫 번째 열부터 N번째 열까지 N개의 높이 정보를 나타내는 자연수가 빈 칸을 사이에 두고 입력된다. 높이는 1이상 100 이하의 정수이다.\n",
    "\n",
    "**Output:**  \n",
    "첮째 줄에 장마철에 물이 잠기지 않은 안전한 영역의 최대 개수를 출력한다."
   ]
  },
  {
   "cell_type": "code",
   "execution_count": 101,
   "id": "edf1c674-8c9a-4dfb-93d0-bddfc82457f7",
   "metadata": {},
   "outputs": [
    {
     "name": "stdin",
     "output_type": "stream",
     "text": [
      " 3\n",
      " 1 1 1\n",
      " 1 1 1\n",
      " 1 1 1\n"
     ]
    },
    {
     "name": "stdout",
     "output_type": "stream",
     "text": [
      "1\n"
     ]
    }
   ],
   "source": [
    "# 1. go through the grid and whenever you find area above the rain height\n",
    "# 2. Run the DFS (have a global visited set), add the all the node visited\n",
    "#    to the global visited\n",
    "# 3. whenver you run a DFS increment the counter\n",
    "# 4. when you loop through the whole grid return the counter\n",
    "def safe_area():\n",
    "    # taking in the input\n",
    "    N = int(input())\n",
    "    grid = []\n",
    "    for _ in range(N):\n",
    "        grid.append(list(map(int, input().split())))\n",
    "\n",
    "    max_h = max(map(max, grid))\n",
    "    max_counter = 0    \n",
    "\n",
    "    # helper function\n",
    "    def safe_area_dfs(N, h, index, visited, grid):\n",
    "        stack = [index]\n",
    "        visited.add(index)\n",
    "        while stack:\n",
    "            curr = stack.pop(-1)\n",
    "            x, y = curr\n",
    "            # get the neighbors of current node\n",
    "            # up \n",
    "            if x-1 >= 0 and grid[x-1][y] > h and (x-1, y) not in visited:\n",
    "                visited.add((x-1, y))\n",
    "                stack.append((x-1, y))\n",
    "            # down\n",
    "            if x+1 < N and grid[x+1][y] > h and (x+1, y) not in visited:\n",
    "                visited.add((x+1, y))\n",
    "                stack.append((x+1, y))\n",
    "            # left \n",
    "            if y-1 >= 0 and grid[x][y-1] > h and (x, y-1) not in visited:\n",
    "                visited.add((x, y-1))\n",
    "                stack.append((x, y-1))\n",
    "            # right \n",
    "            if y+1 < N and grid[x][y+1] > h and (x, y+1) not in visited:\n",
    "                visited.add((x, y+1))\n",
    "                stack.append((x, y+1))\n",
    "                \n",
    "    # actual algorithm\n",
    "    for h in range(0, max_h+1):\n",
    "        visited = set()\n",
    "        counter = 0\n",
    "        for row in range(N):\n",
    "            for column in range(len(grid[row])):\n",
    "                if (row, column) not in visited and grid[row][column] > h:\n",
    "                    safe_area_dfs(N, h, (row, column), visited, grid)\n",
    "                    counter += 1\n",
    "        max_counter = max(max_counter, counter)\n",
    "    return max_counter \n",
    "\n",
    "    \n",
    "print(safe_area())"
   ]
  },
  {
   "cell_type": "markdown",
   "id": "7ee64215-fd8b-4cc0-a44c-44a9c0d574e1",
   "metadata": {},
   "source": [
    "### 빙산\n",
    "**Question:**  \n",
    "지구 온난화로 인하여 북극의 빙산이 녹고 있다. 빙산을 그림 1과 같이 2차원 배열에 표시한다고 하자. 빙산의 각 부분별 높이 정보는 배열의 각 칸에 양의 정수로 지정된다. 빙산 이외의 바다에 해당되는 칸에는 0이 지정된다. 그림 1에서 빈칸 모두 0으로 채워져 있다고 생각한다.\n",
    "\n",
    "![그림 1. 행의 개수가 5이고 열의 개수가 7인 2차원 배열에 저장된 빙산의 높이 정보](images/iceberg_1.png)\n",
    "\n",
    "빙산의 높이는 바닷물에 많이 접해있는 부분에서 더 빨리 줄어들기 때문에, 배열에서 빙산의 각 부분에 해당되는 칸에 있는 높이는 일년마다 그 칸에 동서남북 네 방향으로 붙어있는 0이 지정된 칸의 개수만큼 줄어든다. 단, 각 칸에 지정된 높이는 0보다 더 줄어들지 않는다. 바닷물은 호수처럼 빙산에 둘러싸여 있을 수도 있다. 따라서 그림 1의 빙산은 일년후에 그림 2와 같이 변형된다.\n",
    "\n",
    "그림 3은 그림1읜 방산이 2년 후에 변한 모습을 보여준다. 2차원 배열에서 동서남북 방향으로 붙어있는 칸들은 서로 연결되어 있다고 말한다. 따라서 그림 2의 방산은 한 덩어리지만, 그림 3의 빙산은 세 덩어리를 분리되어 있다.\n",
    "\n",
    "![그림 2](images/iceberg_2.png)\n",
    "![그림 3](images/iceberg_3.png)\n",
    "\n",
    "한 덩어리의 빙산이 주어질 때, 이 빙산이 두 덩어리 이상으로 분리되는 최초의 시간(년)을 구하는 프로그램을 작성하시오. 그림 1의 빙산에 대해서는 2가 답이다. 만일 전부 녹을 때까지 두 덩어리 이상으로 분리되지 않으면 프로그램은 0을 출력한다.\n",
    "\n",
    "\n",
    "**Input:**  \n",
    "첮 줄에는 이차원 배열의 행의 개수와 열의 개수를 나타내는 두 정수 N과 M이 한 개의 빈칸을 사이에 두고 주어진다. N과 M은 3 이상 300이하이다. 그 다음 N개의 줄에는 각 줄마다 배열의 각 행을 나타내는 M개의 정수가 한개의 빈 칸을 사이에 두고 주어진다. 각 칸에 들어가는 값은 0이상 10이하이다. 배열에서 빙산이 차지하는 칸의 개수, 즉, 1 이상의 정수가 들어가는 칸의 개수는 10,000개 이하이다. 배열의 첫 번째 행과 열, 마지막 행과 열에는 항상 0으로 채워진다.\n",
    "\n",
    "\n",
    "**Output:**  \n",
    "첫 줄에 빙산이 분리되는 최초의 시간(년)을 출력한다. 만일 빙산이 다 녹을 때까지 분리되지 않으면 0을 출력한다."
   ]
  },
  {
   "cell_type": "code",
   "execution_count": 146,
   "id": "b3be9302-ee58-4eb7-8e9d-0239b8504123",
   "metadata": {},
   "outputs": [
    {
     "name": "stdin",
     "output_type": "stream",
     "text": [
      " 5 7\n",
      " 0 0 0 0 0 0 0\n",
      " 0 2 4 0 4 2 0\n",
      " 0 3 5 0 5 3 0\n",
      " 0 0 0 0 0 0 0\n",
      " 0 0 0 0 0 0 0\n"
     ]
    },
    {
     "data": {
      "text/plain": [
       "0"
      ]
     },
     "execution_count": 146,
     "metadata": {},
     "output_type": "execute_result"
    }
   ],
   "source": [
    "def ice_berg():\n",
    "    N, M = map(int, input().split())\n",
    "    grid = []\n",
    "    year = 0\n",
    "    for i in range(N):\n",
    "        grid.append(list(map(int, input().split())))\n",
    "    def ice_berg_bfs(N,M,index,grid,visited):\n",
    "        from collections import deque\n",
    "        queue = deque([index])\n",
    "        visited.add(index)\n",
    "        while queue:\n",
    "            curr = queue.popleft()\n",
    "            x, y = curr\n",
    "            # check the neighbors of current iceberg\n",
    "            if x-1 >= 0 and grid[x-1][y] != 0 and (x-1, y) not in visited: #  up\n",
    "                queue.append((x-1, y))\n",
    "                visited.add((x-1,y))\n",
    "            if x+1 < N and grid[x+1][y] != 0 and (x+1, y) not in visited: #  down\n",
    "                queue.append((x+1, y))\n",
    "                visited.add((x+1,y))\n",
    "            if y-1 >= 0 and grid[x][y-1] != 0 and (x, y-1) not in visited: #  left\n",
    "                queue.append((x, y-1))\n",
    "                visited.add((x, y-1))\n",
    "            if y+1 < M and grid[x][y+1] != 0 and (x, y+1) not in visited: #  right\n",
    "                queue.append((x, y+1))\n",
    "                visited.add((x, y+1))\n",
    "    previous_year = [row[:] for row in grid]\n",
    "    while True:\n",
    "        this_year = [row[:] for row in previous_year]\n",
    "        # Run bfs\n",
    "        counter = 0\n",
    "        visited = set()\n",
    "        for row in range(N):\n",
    "            for column in range(M):\n",
    "                if this_year[row][column] != 0 and (row, column) not in visited:\n",
    "                    ice_berg_bfs(N, M, (row, column), this_year, visited)\n",
    "                    counter += 1\n",
    "        if counter > 1:\n",
    "            return year\n",
    "        # Re-adjust the icebergs\n",
    "        for row in range(N):\n",
    "            for column in range(M):\n",
    "                if previous_year[row][column] > 0: #  if the item is not water\n",
    "                    # Check the surrounding\n",
    "                    if row-1 >= 0 and previous_year[row-1][column] == 0: #  Up and if it is water\n",
    "                        if this_year[row][column] - 1 < 0: #  if it is below 0, just set it to 0\n",
    "                            this_year[row][column] = 0\n",
    "                        else:\n",
    "                            this_year[row][column] -= 1\n",
    "                    if row+1 < N and previous_year[row+1][column] == 0: #  Down and if it is water\n",
    "                        if this_year[row][column] - 1 < 0: #  \n",
    "                            this_year[row][column] = 0\n",
    "                        else:\n",
    "                            this_year[row][column] -= 1\n",
    "                    if column-1 >= 0 and previous_year[row][column-1] == 0: #  Left and if it is water\n",
    "                        if this_year[row][column] - 1 < 0:\n",
    "                            this_year[row][column] = 0\n",
    "                        else:\n",
    "                            this_year[row][column] -= 1\n",
    "                    if column+1 < M and previous_year[row][column+1] == 0: #  Right and if it is water\n",
    "                        if this_year[row][column] - 1 < 0:\n",
    "                            this_year[row][column] = 0\n",
    "                        else:\n",
    "                            this_year[row][column] -= 1\n",
    "        year += 1\n",
    "        # Check if it is all melted\n",
    "        flag = True\n",
    "        for row in range(N):\n",
    "            for column in range(M):\n",
    "                if this_year[row][column] != 0:\n",
    "                    flag = False\n",
    "        if flag:\n",
    "            return 0\n",
    "        previous_year = [row[:] for row in this_year]\n",
    "                    \n",
    "print(ice_berg())"
   ]
  },
  {
   "cell_type": "code",
   "execution_count": null,
   "id": "8cb705fd-d130-4c7a-90b7-e66fbb4862cb",
   "metadata": {},
   "outputs": [],
   "source": []
  }
 ],
 "metadata": {
  "kernelspec": {
   "display_name": "Python 3 (ipykernel)",
   "language": "python",
   "name": "python3"
  },
  "language_info": {
   "codemirror_mode": {
    "name": "ipython",
    "version": 3
   },
   "file_extension": ".py",
   "mimetype": "text/x-python",
   "name": "python",
   "nbconvert_exporter": "python",
   "pygments_lexer": "ipython3",
   "version": "3.9.6"
  }
 },
 "nbformat": 4,
 "nbformat_minor": 5
}

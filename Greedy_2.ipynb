{
 "cells": [
  {
   "cell_type": "markdown",
   "id": "fe13362e-eda0-4799-a38e-4206684e1ad0",
   "metadata": {},
   "source": [
    "### 파일 합치기 3\n",
    "\n",
    "**Question**\n",
    "\n",
    "소설가인 김대전은 소설을 여러 장(chapter)으로 나누어 쓰는데, 각 장은 각각 다른 파일에 저장하곤 한다. 소설의 모든 장을 쓰고 나서는 각 장이 쓰여진 파일을 합쳐서 최종적으로 소설의 완성본이 들어있는 한 개의 파일을 만든다. 이 과정에서 두 개의 파일을 합쳐서 하나의 임시파일을 만들고, 이 임시파일이나 원래의 파일을 계속 두 개씩 합쳐서 파일을 합쳐나가고, 최종적으로는 하나의 파일을 합친다. 두 개의 파일을 합칠 때 필요한 비용(시간 등)이 두 파일의 크기의 합이라고 가정할 때, 최종적인 한 개의 파일을 완성하는데 필요한 비용의 총 합을 계산하시오.\n",
    "\n",
    "예를 들어, C1, C2, C3, C4가 네 개의 장을 수록하고 있는 파일이고, 파일 크기가 각각 40, 30, 30, 50 이라고 하자. 이 파일들을 합치는 과정에서, 먼저 C2와 C3를 합쳐서 임시파일 X1을 만든다. 이때 비용 60이 필요하다. 그 다음으로 C1과 X1을 합쳐 임시파일 X2를 만들면 비용 100이 필요하다. 최종적으로 X2와 C4를 합쳐 최종파일을 만들면 비용 150이 필요하다. 따라서, 최종의 한 파일을 만드는데 필요한 비용의 합은 60+100+150=310이다. 다른 방법으로 파일을 합치명 비용을 줄일 수 있다. 먼저 C1과 C2를 합쳐 임시파일 Y1을 만들고, C3와 C4를 합쳐 임시파일 Y2를 만들고, 최종적으로 Y1과 Y2를 합쳐 최종파일을 만들 수 있다. 이때 필요한 총 비용은 70+80+150=300 이다.\n",
    "\n",
    "소설의 각 장들이 수록되어 있는 파일의 크기가 주어졌을 때, 이 파일들을 하나의 파일로 합칠 때 필요한 최소비용을 계산하는 프로그램을 작성하시오.\n",
    "\n",
    "---\n",
    "\n",
    "**Input**\n",
    "\n",
    "프로그램은 표준 입력에선 일벽 데이터를 받는다. 프로그램의 입력은 T개의 테스트 데이터를 이루어져 있는데, T는 입력의 맨 첫 줄에 주어진다. 각 테스트 데이터는 두 개의 행으로 주어지는데, 첫 행에는 소설을 구성하는 장의 수를 나타내는 양의 정수 K(3$\\leq$ K $\\leq$ 1,000,000)가 주어진다. 두 번째 행에는 1장부터 K장까지 수록한 파일의 크기를 나타내는 양의 정수 K개가 주어진다. 파일의 크기는 10,000을 초과하지 않는다.\n",
    "\n",
    "---\n",
    "\n",
    "**Output**\n",
    "\n",
    "프로그램은 표준 출력에 출력한다. 각 테스트 데이터마다 정확이 한 행에 출력한는데, 모든 장을 합치는데 필요한 최소 비용을 출력한다."
   ]
  },
  {
   "cell_type": "code",
   "execution_count": 22,
   "id": "9e715991-f66a-4975-bc2d-849309c61a08",
   "metadata": {},
   "outputs": [
    {
     "name": "stdin",
     "output_type": "stream",
     "text": [
      " 2\n",
      " 4\n",
      " 40 30 30 50\n",
      " 15\n",
      " 1 21 3 4 5 35 5 4 3 5 98 21 14 17 32\n"
     ]
    },
    {
     "name": "stdout",
     "output_type": "stream",
     "text": [
      "300\n",
      "826\n"
     ]
    }
   ],
   "source": [
    "def helper(K, file_sizes):\n",
    "    import heapq\n",
    "    costs = []\n",
    "    temp = file_sizes[:]\n",
    "    heapq.heapify(temp)\n",
    "    while len(costs) < K-1:\n",
    "        first = heapq.heappop(temp)\n",
    "        second = heapq.heappop(temp)\n",
    "        new_cost = first + second\n",
    "        costs.append(new_cost)\n",
    "        heapq.heappush(temp, new_cost)\n",
    "    return sum(costs)\n",
    "\n",
    "def combine_file_2():\n",
    "    T = int(input())\n",
    "    results = []\n",
    "    for _ in range(T):\n",
    "        K = int(input())\n",
    "        file_sizes= list(map(int, input().split()))\n",
    "        results.append(helper(K, file_sizes))\n",
    "    for item in results:\n",
    "        print(item)\n",
    "\n",
    "combine_file_2()"
   ]
  },
  {
   "cell_type": "markdown",
   "id": "3642d143-a676-4a5d-a01c-a1effc5fb4f1",
   "metadata": {},
   "source": [
    "### 구두 수선공\n",
    "\n",
    "**Question**\n",
    "\n",
    "지금 구두 수선공에게는 손님으로부터 주문 받고 제잭해야 할 작업이 N개 쌓여있다. 구두 수선공은 하루에 한 작업만 수행할 수 있고, i번째 작업을 완료하는 데 $T_i$일이 걸린다. 이때 $T_i$는 정수이고 1$\\leq T_i \\leq$ 1000이다.\n",
    "\n",
    "i번째 작업을 시작하기 전에 하루가 지연될 때마다 구두 수선공은 보상금 $S_i$센트를 지불해야 한다. 이때 $S_i$는 정수이고 1$\\leq S_i \\leq$ 10000이다. 구두 수선공을 돕기 위해 최저 보상금을 지불하는 작업 순서를 정해야 한다.\n",
    "\n",
    "하루에 2개 이상의 작업을 동시에 수행할 수 없다. 작업 i를 수행하고 있는 경우, 작업 i를 마칠 때 까지 작업 i 외의 다른 작업을 수행할 수 없다.\n",
    "\n",
    "---\n",
    "\n",
    "**Input**\n",
    "\n",
    "1 $\\leq$ N $\\leq$ 1000 범위의 정수 N이 첫 번째 줄에 주어진다. 다음 N개의 줄에 걸쳐서 첫 번째 열에는 $T_1$...$T_N$이 입력되며, 두 번쨰 열에는 $S_1$...$S_N$ 이 주어진다.\n",
    "\n",
    "---\n",
    "\n",
    "**Output**\n",
    "\n",
    "최소 보상금을 지불하는 작업 순서를 출력해야 한다. 모든 작업을 입력에서의 번호(1~N)로 표시해야 한다. 모든 정수는 한 줄로 표시해야 하며, 각 적업은 공백 문자로 구분한다. 여러 가지 해답이 나올 수 있다면 오름차순 정렬에 의해 가장 첫 번쨰 해답을 출력한다"
   ]
  },
  {
   "cell_type": "code",
   "execution_count": 40,
   "id": "3bdf1ab6-1040-4d77-810c-ee81f55decb9",
   "metadata": {},
   "outputs": [
    {
     "name": "stdin",
     "output_type": "stream",
     "text": [
      " 4\n",
      " 3 4\n",
      " 1 1000\n",
      " 2 2\n",
      " 5 5\n"
     ]
    },
    {
     "name": "stdout",
     "output_type": "stream",
     "text": [
      "2 1 3 4\n"
     ]
    }
   ],
   "source": [
    "def shoe_repair_order():\n",
    "    N = int(input())\n",
    "    temp = []\n",
    "    for i in range(N):\n",
    "        T, S = map(int, input().split())\n",
    "        temp.append((T, S, S/T, i+1))\n",
    "    temp = sorted(temp, key=lambda x: x[2], reverse=True)\n",
    "    return \" \".join([str(x[3]) for x in temp])\n",
    "print(shoe_repair_order())"
   ]
  },
  {
   "cell_type": "markdown",
   "id": "1168a4cb-c1fc-472e-af72-58590f0ead59",
   "metadata": {},
   "source": [
    "### 공항\n",
    "\n",
    "**Question**\n",
    "\n",
    "오늘은 신승원의 생일이다.\n",
    "\n",
    "박승원은 생일을 맞아 신승원에게 인천국제공항을 선물을 줬다.\n",
    "\n",
    "공항에는 G개의 게이트가 있으며 각각은 1에서 G까지의 번호를 가지고 있다.\n",
    "\n",
    "공항에는 P개의 비행기가 순서대로 도착할 예정이며, 당신은 i번째 비행기를 1번부터 $g_i$(1$\\leq g_i \\leq G$) 번째 게이트중 하나에 영구적으로 도킹하려 한다. 비행기가 어느 게이트에도 도킹할 수 없다면 공항이 폐쇄되고, 이후 어떤 비행기도 도착할 수 없다.\n",
    "\n",
    "신승원은 가장 많은 비행기를 공항에 도킹시켜서 박승원을 행복하게 하고 싶어한다. 승원이는 비행기를 최대 몇 대 도킹시킬 수 있는가?\n",
    "\n",
    "---\n",
    "\n",
    "**Input**\n",
    "\n",
    "첫 번째 줄에는 게이트의 수 G(1$\\leq$ G $\\leq 10^5$)가 주어진다.\n",
    "\n",
    "두 번째 줄에는 비행기의 수 P(1$\\leq$ P $\\leq 10^5$)가 주어진다.\n",
    "\n",
    "이후 P개의 줄에 $g_i$ (1 $\\leq g_i \\leq$ G)가 주어진다.\n",
    "\n",
    "---\n",
    "\n",
    "**Output**\n",
    "\n",
    "승원이가 도킹시킬 수 있는 최대의 비행기 수를 출력한다."
   ]
  },
  {
   "cell_type": "code",
   "execution_count": 54,
   "id": "29be27dc-b7d5-4ca0-98c2-10c7431f1244",
   "metadata": {},
   "outputs": [
    {
     "name": "stdin",
     "output_type": "stream",
     "text": [
      " 4\n",
      " 3\n",
      " 4\n",
      " 1\n",
      " 1\n"
     ]
    },
    {
     "name": "stdout",
     "output_type": "stream",
     "text": [
      "2\n"
     ]
    }
   ],
   "source": [
    "def airport_docking():\n",
    "    G = int(input())\n",
    "    P = int(input())\n",
    "    gate_list = [[i+1,0] for i in range(G)]\n",
    "    p_list = []\n",
    "    for _ in range(P):\n",
    "        p_list.append(int(input()))\n",
    "    for plane in p_list:\n",
    "        flag = False\n",
    "        for gate in gate_list[::-1]:\n",
    "            if gate[0] <= plane and gate[1] == 0:\n",
    "                gate[1] = 1\n",
    "                flag = True\n",
    "                break\n",
    "        if flag == False:\n",
    "            break\n",
    "    result = 0\n",
    "    for gate in gate_list:\n",
    "        result += gate[1]\n",
    "    return result\n",
    "    \n",
    "print(airport_docking())"
   ]
  },
  {
   "cell_type": "code",
   "execution_count": 48,
   "id": "ca293584-3c2d-4b9e-9e72-317ab75910e4",
   "metadata": {},
   "outputs": [],
   "source": [
    "G = 4\n",
    "P = 6\n",
    "gate_list = [[1, 0], [2, 0], [3, 0], [4, 0]]\n",
    "p_list = [2, 2, 3, 3, 4, 4]"
   ]
  },
  {
   "cell_type": "code",
   "execution_count": 49,
   "id": "ac724758-0499-417d-9ee5-da73caabe899",
   "metadata": {},
   "outputs": [
    {
     "name": "stdout",
     "output_type": "stream",
     "text": [
      "[[1, 1], [2, 1], [3, 1], [4, 0]]\n"
     ]
    }
   ],
   "source": [
    "for plane in p_list:\n",
    "    flag = False\n",
    "    for gate in gate_list:\n",
    "        if gate[0] <= plane and gate[1] == 0:\n",
    "            gate[1] = 1\n",
    "            flag = True\n",
    "            break\n",
    "    if flag == False:\n",
    "        print(gate_list)\n",
    "        break"
   ]
  },
  {
   "cell_type": "code",
   "execution_count": null,
   "id": "2c15120a-ba34-4aea-a1fe-8a78158e5498",
   "metadata": {},
   "outputs": [],
   "source": []
  }
 ],
 "metadata": {
  "kernelspec": {
   "display_name": "Python 3 (ipykernel)",
   "language": "python",
   "name": "python3"
  },
  "language_info": {
   "codemirror_mode": {
    "name": "ipython",
    "version": 3
   },
   "file_extension": ".py",
   "mimetype": "text/x-python",
   "name": "python",
   "nbconvert_exporter": "python",
   "pygments_lexer": "ipython3",
   "version": "3.9.6"
  }
 },
 "nbformat": 4,
 "nbformat_minor": 5
}

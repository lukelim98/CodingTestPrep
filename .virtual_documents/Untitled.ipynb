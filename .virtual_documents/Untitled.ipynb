


class Graph:
    """
    Graph using an adjacency list with only built-ins.
    - directed: if False, edges are added both ways
    - weights: store as numbers (default 1)
    """
    def __init__(self, directed=False):
        self.directed = directed
        self._adj = {}

    # -------- Vertex ops --------
    def add_vertex(self, v):
        if v not in self._adj:
            self._adj[v] = {}

    def remove_vertex(self, v):
        if v not in self._adj:
            return
        # remove inbound edges:
        for u in list(self._adj.keys()):
            if v in self._adj[u]:
                del self._adj[u][v]
        # remove the vertex itself
        del self._adj[v]

    def has_vertex(self, v):
        return v in self._adj

    # -------- Vertex ops --------
    def add_edge(self, u, v, weight=1):
        self.add_vertex(u)
        self.add_vertex(v)
        self._adj[u][v] = weight
        if not self.directed:
            self._adj[v][u] = weight

    def remove_edge(self, u, v):
        if u in self._adj and v in self._adj[u]:
            del self._adj[u][v]
        if not self.directed and v in self._adj and v in self._adj[u]:
            del self._adj[v][u]

    # -------- Inspection --------
    def get_neighbors(self, v):
        # Return all neighbors of a given vertex v and their edge weights
        return dict(self._adj.get(v, {}))

    def num_vertices(self):
        # Return how many vertices (nodes) exist in the graph
        return len(self._adj)

    def num_edges(self):
        # Return how many edges exist in the graph
        # if the graph is directed: just count all edges.
        # if undirected: divide by 2
        m = sum(len(item) for item in self._adj.values())
        return m if self.directed else m // 2

    def vertices(self):
        # Return a list of all vertices in the graph
        return [key for key in self._adj]

    def edges(self):
        # Return a list of all edges in the form (v, u, weight)
        edges = []
        if self.directed:
            for v in self._adj:
                for u in self._adj[v]:
                    edges.append((v, u, self._adj[v][u]))
        else:
            seen = set()
            for v in self._adj:
                for u in self._adj[v]:
                    if tuple(sorted([v, u])) not in seen:
                        edges.append((v, u, self._adj[v][u]))
                        seen.add(tuple(sorted([v, u])))
        return edges

    def to_adjacency_list(self):
        # Return the graph's adjacency list as a dictionay-of-dictionary
        return {v: dict(nbrs) for v, nbrs in self._adj.items()}

    def to_adjacency_matrix(self):
        # Return a matrix form of the graph
        adj_matrix = [[0] * len(self._adj) for _ in range(len(self._adj))]
        index_dict = {key: index for index, key in enumerate(self._adj)}
        for v in self._adj:
            for u in self._adj[v]:
                adj_matrix[index_dict[v]][index_dict[u]] = self._adj[v][u]
        return adj_matrix

        
    def __str__(self):
        # Define how the graph prints as a string

    def print_graph(self):
        # Just print the string representation of the graph


temp = {"A" : {"B" : 1}, "B" : {"C" : 1}, "C" : {}}
adj_matrix = [[0]*len(temp) for _ in range(len(temp))]
index_dict = {key: index for index, key in enumerate(temp)}
for v in temp:
    for u in temp[v]:
        adj_matrix[index_dict[v]][index_dict[u]] = temp[v][u]
adj_matrix


temp = {"A" : {"B" : 1}, "B" : {"C" : 1, "A": 1}, "C" : {"B": 1}}
adj_matrix = [[0]*len(temp) for _ in range(len(temp))]
index_dict = {key: index for index, key in enumerate(temp)}
for v in temp:
    for u in temp[v]:
        adj_matrix[index_dict[v]][index_dict[u]] = temp[v][u]
adj_matrix



temp['A']['B']




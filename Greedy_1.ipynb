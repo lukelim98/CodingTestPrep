{
 "cells": [
  {
   "cell_type": "markdown",
   "id": "fbb84956-f8e6-49c1-8b44-0286263ab644",
   "metadata": {},
   "source": [
    "### ATM\n",
    "\n",
    "**Question**\n",
    "\n",
    "인하은행에는 ATM이 1대밖에 없다. 지금 이 ATM 앞에 $N$명의 사람들이 줄을 서 있다. 사람은 1번부터 $N$번까지 번호가 매겨져 있으며, $i$번 사람이 돈을 인출하는데 걸리는 시간은 $P_i$분이다.  \n",
    "\n",
    "사람들이 줄을 서는 순서에 따라서, 돈을 인출하는데 필요한 시간의 합이 달라지게 된다.  \n",
    "\n",
    "예를 들어, 총 5명이 있고, $P_1=3$, $P_2=1$, $P_3=4$, $P_4=3$, $P_5=2$ 인 경우를 생각해보자.  \n",
    "\n",
    "[1, 2, 3, 4, 5] 순서로 줄을 선다면,  \n",
    "- 1번 사람은 3분만에 돈을 뽑을 수 있다.  \n",
    "- 2번 사람은 1번 사람이 돈을 뽑을 때까지 기다려야 하기 때문에, $3+1=4$분이 걸린다.  \n",
    "- 3번 사람은 $3+1+4=8$분, 4번 사람은 $3+1+4+3=11$분, 5번 사람은 $3+1+4+3+2=13$분이 걸린다.  \n",
    "\n",
    "이 경우 각 사람이 돈을 인출하는데 필요한 시간의 합은 $3+4+8+11+13=39$분이다.  \n",
    "\n",
    "다른 예로 [2, 5, 1, 4, 3] 순서로 줄을 서면,  \n",
    "- 2번 사람은 1분,  \n",
    "- 5번 사람은 $1+2=3$분,  \n",
    "- 1번 사람은 $1+2+3=6$분,  \n",
    "- 4번 사람은 $1+2+3+3=9$분,  \n",
    "- 3번 사람은 $1+2+3+3+4=13$분이 걸린다.  \n",
    "\n",
    "이때 각 사람이 돈을 인출하는데 필요한 시간의 합은 $1+3+6+9+13=32$분이며, 이보다 더 적은 합은 만들 수 없다.  \n",
    "\n",
    "줄을 서 있는 사람의 수 $N$과 각 사람이 돈을 인출하는데 걸리는 시간 $P_i$가 주어졌을 때,  \n",
    "각 사람이 돈을 인출하는데 필요한 시간의 **합의 최솟값**을 구하는 프로그램을 작성하시오.\n",
    "\n",
    "---\n",
    "\n",
    "**Input**\n",
    "\n",
    "첫째 줄에 사람의 수 $N$ $(1 \\le N \\le 1{,}000)$이 주어진다.  \n",
    "둘째 줄에는 각 사람이 돈을 인출하는데 걸리는 시간 $P_i$가 주어진다. $(1 \\le P_i \\le 1{,}000)$  \n",
    "\n",
    "---\n",
    "\n",
    "**Output**\n",
    "\n",
    "각 사람이 돈을 인출하는데 필요한 시간의 **합의 최솟값**을 출력한다."
   ]
  },
  {
   "cell_type": "code",
   "execution_count": 11,
   "id": "56ebd092-6187-44d7-96df-864e3e08d8e5",
   "metadata": {},
   "outputs": [
    {
     "name": "stdin",
     "output_type": "stream",
     "text": [
      " 5\n",
      " 3 1 4 3 2\n"
     ]
    },
    {
     "name": "stdout",
     "output_type": "stream",
     "text": [
      "32\n"
     ]
    }
   ],
   "source": [
    "def atm():\n",
    "    N = int(input())\n",
    "    temp = list(map(int, input().split()))\n",
    "    temp2 = []\n",
    "    temp.sort()\n",
    "    time = 0\n",
    "    for item in temp:\n",
    "        time += item\n",
    "        temp2.append(time)\n",
    "    result = 0\n",
    "    for item in temp2:\n",
    "        result += item\n",
    "    return result\n",
    "    \n",
    "print(atm())"
   ]
  },
  {
   "cell_type": "markdown",
   "id": "cb19b46e-c27a-4813-b46a-c46d01eeb955",
   "metadata": {},
   "source": [
    "### 잃어버린 괄호\n",
    "\n",
    "**Question**\n",
    "\n",
    "세준이는 양수와 +,-,그리고 괄호를 가지고 식을 만들었다. 그리고 나서 세준이는 괄호를 모두 지웠다.\n",
    "\n",
    "그리고 나서 세준이는 괄호를 적절히 쳐서 이 식의 값을 최소로 만들려고 한다.\n",
    "\n",
    "괄호를 적절히 쳐서 이 식의 값을 최소로 만드는 프로그램을 작성하시오.\n",
    "\n",
    "---\n",
    "\n",
    "**Input**\n",
    "\n",
    "첫째 줄에 식이 주어진다. 식은 '0'~'9', '+', 그리고 '-'만으로 아루어져 있고, 가장 처음과 마지막 문자는 숫자이다. 그리고 연속해서 두 개 이상의 연산자가 나타나지 않고, 5자리보다 많은 연속되는 숫자는 없다. 수는 0으로 시작할 수 있다. 입력으로 주어지는 식의 길이는 50보다 작거나 같다.\n",
    "\n",
    "---\n",
    "\n",
    "**Output**\n",
    "\n",
    "첫째 줄에 정담을 출력한다."
   ]
  },
  {
   "cell_type": "code",
   "execution_count": 8,
   "id": "fe987d61-e6e4-462e-9060-457d65c28d73",
   "metadata": {},
   "outputs": [
    {
     "name": "stdin",
     "output_type": "stream",
     "text": [
      " 55-50+40\n"
     ]
    },
    {
     "data": {
      "text/plain": [
       "-35"
      ]
     },
     "execution_count": 8,
     "metadata": {},
     "output_type": "execute_result"
    }
   ],
   "source": [
    "expr = input()\n",
    "def lost_parentheses(expr: str) -> int:\n",
    "    parts = [p for p in expr.split('-') if p]  # ignore empty parts\n",
    "    def sum_chunk(chunk: str) -> int:\n",
    "        return sum(map(int, chunk.split('+'))) if chunk else 0\n",
    "    first = sum_chunk(parts[0])\n",
    "    rest = sum(sum_chunk(p) for p in parts[1:])\n",
    "    return first - rest\n",
    "print(lost_parentheses(expr))"
   ]
  },
  {
   "cell_type": "markdown",
   "id": "b392dfc5-4beb-4782-b8dc-38484ac1371f",
   "metadata": {},
   "source": [
    "### 동전 0\n",
    "\n",
    "**Question**\n",
    "\n",
    "준규가 가지고 있는 동전은 총 N종류이고, 각각의 동전을 매우 많이 가지고 있다.\n",
    "\n",
    "동전을 적절히 사용해서 그 가치의 합을 K로 만들려고 한다. 이때 필요한 동전 개수의 최솟값을 구하는 프로그램을 작성하시오.\n",
    "\n",
    "---\n",
    "\n",
    "**Input**\n",
    "\n",
    "첫째 줄에 N과 K가 주어진다. (1$\\leq$N$\\leq$10, 1$\\leq$K$\\leq$100,000,000)\n",
    "\n",
    "둘째 줄부터 N개의 동전의 가치 $A_i$가 오름차순으로 주어진다. (1 $\\leq A_i \\leq$ 1,000,000, $A_i$=1, i$\\geq$2인 경우에 $A_i$는 $A_{i-1}$의 배수)\n",
    "\n",
    "---\n",
    "\n",
    "**Output**\n",
    "\n",
    "첫째 줄에 K원을 만드는데 필요한 동전 개수의 최솟값을 출력한다."
   ]
  },
  {
   "cell_type": "code",
   "execution_count": 30,
   "id": "dedb028f-e360-472e-9ab9-e7516cf1377d",
   "metadata": {},
   "outputs": [
    {
     "name": "stdin",
     "output_type": "stream",
     "text": [
      " 10 4790\n",
      " 1\n",
      " 5\n",
      " 10\n",
      " 50\n",
      " 100\n",
      " 500\n",
      " 1000\n",
      " 5000\n",
      " 10000\n",
      " 50000\n"
     ]
    },
    {
     "name": "stdout",
     "output_type": "stream",
     "text": [
      "12\n"
     ]
    }
   ],
   "source": [
    "def coin_0():\n",
    "    N, K = map(int, input().split())\n",
    "    coin_dict = {}\n",
    "    remainder = K\n",
    "    for _ in range(N):\n",
    "        coin_dict[int(input())] = 0\n",
    "    coin_list = list(coin_dict.keys())\n",
    "    while remainder != 0:\n",
    "        for coin in coin_list[::-1]:\n",
    "            if coin > remainder:\n",
    "                continue\n",
    "            count = remainder // coin\n",
    "            coin_dict[coin] = count\n",
    "            remainder = remainder % (coin * count)\n",
    "    return sum(coin_dict.values())\n",
    "print(coin_0())"
   ]
  },
  {
   "cell_type": "markdown",
   "id": "94e56aeb-4aad-48aa-9e0a-4d8535ec94a9",
   "metadata": {},
   "source": [
    "### 주유소\n",
    "\n",
    "**Question**\n",
    "\n",
    "어떤 나라에 N개의 도시가 있다. 이 도시들은 일직선 도로 위에 있다. 편의상 일직선을 수평 방향으로 두자. 제일 왼쪽의 도시에서 제일 오른쪽의 도시로 자동차를 이용하여 이동하려 한다. 인접한 두 도시 사이의 도로들은 서로 길이가 다를 수 있다. 도로 길이의 단위는 km를 사용한다.\n",
    "\n",
    "처음 출발할 때 자동차에는 기름이 없어서 주유소에서 기름을 넣고 출발하여야 한다. 기름통의 크기는 무제한이어서 얼마든지 많은 기름을 넣을 수 있다. 도로를 이용하여 이동할 때 1km마다 1리터의 기름을 사용한다. 각 도시에는 단 하나의 주요소가 있으며, 도시 마다 주요소의 라터당 가격은 다를 수 있다. 가격의 단위는 원을 사용한다.\n",
    "\n",
    "예를 들어, 이 나라에 다음 그림처러 4개의 도시가 있다고 하자. 원 안에 있는 숫자는 그 도시에 있는 주유소의 리터당 가격이다. 도로 위에 있는 숫자는 도로의 길이를 표시한 것이다.\n",
    "\n",
    "![그림 1](images/13305.png)\n",
    "\n",
    "제일 왼쪽 도시에서 6리터의 기름을 넣고, 더 이상의 주유 없이 제일 오른쪽 도시까지 이동하면 총 비용은 30원이다. 만약 제일 왼쪽 도시에서 2리터의 기름을 넣고(2 x 5 = 10원) 다음 번 도시까지 이동한 후 3리터의 기름을 넣고(3x2=6월)다음 도시에서 1리터의 기름을 넣고(1x4=4원)제일 오른쪽 도시로 이동하면, 총 비용은 20원이다. 또 다른 방법으로 제일 왼쪽 도시에서 2리터의 기름을 넣고(2x5=10원) 다음 번 도시까지 이동한 후 4리터의 기름을 넣고(4x2=8원)제일 오른쪽 도시까지 이동하면, 총 비용은 18원이다.\n",
    "\n",
    "각 도시에 있는 주유소의 기름 가격과, 각 도시를 연결하는 도로의 길이를 입력으로 받아 제일 왼쪽 도시에서 제일 오늘쪽 도시로 이동하는 최소의 비용을 계산하는 프로그램일 작성하시어.\n",
    "\n",
    "---\n",
    "\n",
    "**Input**\n",
    "\n",
    "표준 입력으로 다음 정보가 주어진다. 첫 번째 줄에는 도시의 개수를 나타내는 정수 N(2$\\leq$ N $\\leq$ 100,000)이 주어진다. 다음 줄에는 인접한 두 도시를 연결하는 도로의 길이가 제일 왼쪽 도로부터 N-1개의 자연수로 주어진다. 다음 줄에는 주유소의 리터당 가격이 제일 왼쪽 도시부터 순서대로 N개의 자연수로 주어진다. 제일 왼쪽 도시부터 제일 오른쪽 도시까지 거리는 1이상 1,000,000,000이하의 자연수이다. 티러당 가격은 1 이상 1,000,000,000 이하의 자연수이다.\n",
    "\n",
    "---\n",
    "\n",
    "**Output**\n",
    "\n",
    "표준 출력으로 제일 왼쪽 도시에서 제일 오른쪽 도시로 가는 최소 비용을 출력한다."
   ]
  },
  {
   "cell_type": "code",
   "execution_count": 60,
   "id": "3f2f1ca4-9969-4f2b-b1f2-6ed765c0951e",
   "metadata": {},
   "outputs": [
    {
     "name": "stdin",
     "output_type": "stream",
     "text": [
      " 4\n",
      " 2 3 1\n",
      " 5 2 4 1\n"
     ]
    },
    {
     "name": "stdout",
     "output_type": "stream",
     "text": [
      "18\n"
     ]
    }
   ],
   "source": [
    "def gas_station():\n",
    "    N = int(input())\n",
    "    distances = list(map(int, input().split()))\n",
    "    gas_prices = list(map(int, input().split()))\n",
    "    min_gas_price = float('inf')\n",
    "    price = 0\n",
    "    for i in range(len(distances)):\n",
    "        min_gas_price = min(min_gas_price, gas_prices[i])\n",
    "        price += min_gas_price * distances[i]\n",
    "    return price\n",
    "            \n",
    "print(gas_station())"
   ]
  },
  {
   "cell_type": "markdown",
   "id": "85458466-6cb5-4dd8-92b5-1feb371a07a1",
   "metadata": {},
   "source": [
    "### 회의실 배정\n",
    "\n",
    "**Question**\n",
    "\n",
    "한 개의 회의실이 있는데 이를 사용하고자 하는 N개의 회의에 대하여 회의실 사용표를 만들려고 한다. 각 회의 I에 대해 시작시간과 끝나느 시간이 주어져 있고, 각 회의가 겹치지 않게 하면서 회의실을 사용할 수 있는 회의의 최대 개수를 찾아보자. 단, 회의는 한번 시작하면 중간에 중단될 수 없으며 한 회의가 끝나는 것과 동시에 다음 회의가 시작될 수 있다. 회의의 시작시간과 끝나는 시간이 같을 수도 있다. 이 경우에는 시작하자마자 끝나는 것으로 생각하면 된다.\n",
    "\n",
    "---\n",
    "\n",
    "**Input**\n",
    "\n",
    "첫째 줄에 회의의 수 N(1$\\leq$N$\\leq$100,000)이 주어진다. 둘째 줄부터 N+1 줄까지 각 회의의 정보가 주어지는데 이것은 공백을 사이에 두고 회의의 시작시간과 끝나는 시간이 주어진다. 시작 시간과 끝나는 시간은 $2^{31}-1$ 보다 작거나 같은 자연수 또는 0이다.\n",
    "\n",
    "---\n",
    "\n",
    "**Output**\n",
    "\n",
    "첫째 줄에 최대 사용할 수 있는 회의의 최대 개수를 출력한다."
   ]
  },
  {
   "cell_type": "code",
   "execution_count": 76,
   "id": "fdb2969a-01db-419e-ae4e-2385b9cb2eac",
   "metadata": {},
   "outputs": [
    {
     "name": "stdin",
     "output_type": "stream",
     "text": [
      " 11\n",
      " 1 4\n",
      " 3 5\n",
      " 0 6\n",
      " 5 7\n",
      " 3 8\n",
      " 5 9\n",
      " 6 10\n",
      " 8 11\n",
      " 8 12\n",
      " 2 13\n",
      " 12 14\n"
     ]
    },
    {
     "name": "stdout",
     "output_type": "stream",
     "text": [
      "4\n"
     ]
    }
   ],
   "source": [
    "def meeting_room_schedule():\n",
    "    N = int(input())\n",
    "    meeting_time = []\n",
    "    for _ in range(N):\n",
    "        meeting_time.append(tuple(map(int, input().split())))\n",
    "    end_meeting_time = sorted(meeting_time, key=lambda time: (time[1], time[0]))\n",
    "    last_end_time = end_meeting_time[0][1]\n",
    "    schedule = [end_meeting_time[0]]\n",
    "    for i in range(1, len(end_meeting_time)):\n",
    "        start_time, end_time = end_meeting_time[i]\n",
    "        if last_end_time <= start_time:\n",
    "            schedule.append(end_meeting_time[i])\n",
    "            last_end_time = end_time\n",
    "    return len(schedule)\n",
    "    \n",
    "print(meeting_room_schedule())"
   ]
  },
  {
   "cell_type": "code",
   "execution_count": null,
   "id": "e9ad0d73-8710-4c90-bded-00831e246b70",
   "metadata": {},
   "outputs": [],
   "source": []
  }
 ],
 "metadata": {
  "kernelspec": {
   "display_name": "Python 3 (ipykernel)",
   "language": "python",
   "name": "python3"
  },
  "language_info": {
   "codemirror_mode": {
    "name": "ipython",
    "version": 3
   },
   "file_extension": ".py",
   "mimetype": "text/x-python",
   "name": "python",
   "nbconvert_exporter": "python",
   "pygments_lexer": "ipython3",
   "version": "3.9.6"
  }
 },
 "nbformat": 4,
 "nbformat_minor": 5
}

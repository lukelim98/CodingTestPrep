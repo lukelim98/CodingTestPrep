{
 "cells": [
  {
   "cell_type": "markdown",
   "id": "fbb84956-f8e6-49c1-8b44-0286263ab644",
   "metadata": {},
   "source": [
    "### ATM\n",
    "\n",
    "**Question**\n",
    "\n",
    "인하은행에는 ATM이 1대밖에 없다. 지금 이 ATM 앞에 $N$명의 사람들이 줄을 서 있다. 사람은 1번부터 $N$번까지 번호가 매겨져 있으며, $i$번 사람이 돈을 인출하는데 걸리는 시간은 $P_i$분이다.  \n",
    "\n",
    "사람들이 줄을 서는 순서에 따라서, 돈을 인출하는데 필요한 시간의 합이 달라지게 된다.  \n",
    "\n",
    "예를 들어, 총 5명이 있고, $P_1=3$, $P_2=1$, $P_3=4$, $P_4=3$, $P_5=2$ 인 경우를 생각해보자.  \n",
    "\n",
    "[1, 2, 3, 4, 5] 순서로 줄을 선다면,  \n",
    "- 1번 사람은 3분만에 돈을 뽑을 수 있다.  \n",
    "- 2번 사람은 1번 사람이 돈을 뽑을 때까지 기다려야 하기 때문에, $3+1=4$분이 걸린다.  \n",
    "- 3번 사람은 $3+1+4=8$분, 4번 사람은 $3+1+4+3=11$분, 5번 사람은 $3+1+4+3+2=13$분이 걸린다.  \n",
    "\n",
    "이 경우 각 사람이 돈을 인출하는데 필요한 시간의 합은 $3+4+8+11+13=39$분이다.  \n",
    "\n",
    "다른 예로 [2, 5, 1, 4, 3] 순서로 줄을 서면,  \n",
    "- 2번 사람은 1분,  \n",
    "- 5번 사람은 $1+2=3$분,  \n",
    "- 1번 사람은 $1+2+3=6$분,  \n",
    "- 4번 사람은 $1+2+3+3=9$분,  \n",
    "- 3번 사람은 $1+2+3+3+4=13$분이 걸린다.  \n",
    "\n",
    "이때 각 사람이 돈을 인출하는데 필요한 시간의 합은 $1+3+6+9+13=32$분이며, 이보다 더 적은 합은 만들 수 없다.  \n",
    "\n",
    "줄을 서 있는 사람의 수 $N$과 각 사람이 돈을 인출하는데 걸리는 시간 $P_i$가 주어졌을 때,  \n",
    "각 사람이 돈을 인출하는데 필요한 시간의 **합의 최솟값**을 구하는 프로그램을 작성하시오.\n",
    "\n",
    "---\n",
    "\n",
    "**Input**\n",
    "\n",
    "첫째 줄에 사람의 수 $N$ $(1 \\le N \\le 1{,}000)$이 주어진다.  \n",
    "둘째 줄에는 각 사람이 돈을 인출하는데 걸리는 시간 $P_i$가 주어진다. $(1 \\le P_i \\le 1{,}000)$  \n",
    "\n",
    "---\n",
    "\n",
    "**Output**\n",
    "\n",
    "각 사람이 돈을 인출하는데 필요한 시간의 **합의 최솟값**을 출력한다."
   ]
  },
  {
   "cell_type": "code",
   "execution_count": 11,
   "id": "56ebd092-6187-44d7-96df-864e3e08d8e5",
   "metadata": {},
   "outputs": [
    {
     "name": "stdin",
     "output_type": "stream",
     "text": [
      " 5\n",
      " 3 1 4 3 2\n"
     ]
    },
    {
     "name": "stdout",
     "output_type": "stream",
     "text": [
      "32\n"
     ]
    }
   ],
   "source": [
    "def atm():\n",
    "    N = int(input())\n",
    "    temp = list(map(int, input().split()))\n",
    "    temp2 = []\n",
    "    temp.sort()\n",
    "    time = 0\n",
    "    for item in temp:\n",
    "        time += item\n",
    "        temp2.append(time)\n",
    "    result = 0\n",
    "    for item in temp2:\n",
    "        result += item\n",
    "    return result\n",
    "    \n",
    "print(atm())"
   ]
  },
  {
   "cell_type": "markdown",
   "id": "cb19b46e-c27a-4813-b46a-c46d01eeb955",
   "metadata": {},
   "source": [
    "### 잃어버린 괄호\n",
    "\n",
    "**Question**\n",
    "\n",
    "세준이는 양수와 +,-,그리고 괄호를 가지고 식을 만들었다. 그리고 나서 세준이는 괄호를 모두 지웠다.\n",
    "\n",
    "그리고 나서 세준이는 괄호를 적절히 쳐서 이 식의 값을 최소로 만들려고 한다.\n",
    "\n",
    "괄호를 적절히 쳐서 이 식의 값을 최소로 만드는 프로그램을 작성하시오.\n",
    "\n",
    "---\n",
    "\n",
    "**Input**\n",
    "\n",
    "첫째 줄에 식이 주어진다. 식은 '0'~'9', '+', 그리고 '-'만으로 아루어져 있고, 가장 처음과 마지막 문자는 숫자이다. 그리고 연속해서 두 개 이상의 연산자가 나타나지 않고, 5자리보다 많은 연속되는 숫자는 없다. 수는 0으로 시작할 수 있다. 입력으로 주어지는 식의 길이는 50보다 작거나 같다.\n",
    "\n",
    "---\n",
    "\n",
    "**Output**\n",
    "\n",
    "첫째 줄에 정담을 출력한다."
   ]
  },
  {
   "cell_type": "code",
   "execution_count": null,
   "id": "fe987d61-e6e4-462e-9060-457d65c28d73",
   "metadata": {},
   "outputs": [],
   "source": []
  }
 ],
 "metadata": {
  "kernelspec": {
   "display_name": "Python 3 (ipykernel)",
   "language": "python",
   "name": "python3"
  },
  "language_info": {
   "codemirror_mode": {
    "name": "ipython",
    "version": 3
   },
   "file_extension": ".py",
   "mimetype": "text/x-python",
   "name": "python",
   "nbconvert_exporter": "python",
   "pygments_lexer": "ipython3",
   "version": "3.9.6"
  }
 },
 "nbformat": 4,
 "nbformat_minor": 5
}
